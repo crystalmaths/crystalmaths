{
 "cells": [
  {
   "cell_type": "code",
   "execution_count": 2,
   "metadata": {},
   "outputs": [],
   "source": [
    "import math\n",
    "import pandas as pd\n",
    "import numpy as np"
   ]
  },
  {
   "cell_type": "code",
   "execution_count": 7,
   "metadata": {},
   "outputs": [],
   "source": [
    "def dotproduct(point1, point2):\n",
    "    \"\"\"This is the function used to calculate the dot product between two vectors\"\"\"\n",
    "    result = 0\n",
    "    for i in range (len(point1)):\n",
    "        result = result + point1[i]*point2[i]\n",
    "    return result"
   ]
  },
  {
   "cell_type": "code",
   "execution_count": 8,
   "metadata": {},
   "outputs": [],
   "source": [
    "def lengthproduct(point1, point2):\n",
    "    \"\"\"This is the function used to calculate the length of given two vectors and their product\"\"\"\n",
    "    len1 = 0\n",
    "    len2 = 0\n",
    "    for i in range (len(point1)):\n",
    "        len1 = len1 + point1[i]*point1[i]\n",
    "    for i in range (len(point2)):\n",
    "        len2 = len1 + point2[i]*point2[i]\n",
    "    len1 = math.sqrt(len1)\n",
    "    len2 = math.sqrt(len2)\n",
    "    lengthproduct = len1*len2\n",
    "    return lengthproduct"
   ]
  },
  {
   "cell_type": "code",
   "execution_count": 1,
   "metadata": {},
   "outputs": [],
   "source": [
    "def angle (point1, point2):\n",
    "    \"\"\"This is the function used to calculate the angle between two vectors\"\"\"\n",
    "    rad = math.acos(dotproduct(point1, point2)/lengthproduct(point1, point2))\n",
    "    degree = 180*rad/math.pi"
   ]
  },
  {
   "cell_type": "code",
   "execution_count": 13,
   "metadata": {},
   "outputs": [
    {
     "data": {
      "text/plain": [
       "3.141592653589793"
      ]
     },
     "execution_count": 13,
     "metadata": {},
     "output_type": "execute_result"
    }
   ],
   "source": [
    "point1 = [1, 0]\n",
    "point2 = [0, 1]\n",
    "angle(point1, point2)"
   ]
  },
  {
   "cell_type": "code",
   "execution_count": null,
   "metadata": {},
   "outputs": [],
   "source": []
  }
 ],
 "metadata": {
  "kernelspec": {
   "display_name": "Python 3",
   "language": "python",
   "name": "python3"
  },
  "language_info": {
   "codemirror_mode": {
    "name": "ipython",
    "version": 3
   },
   "file_extension": ".py",
   "mimetype": "text/x-python",
   "name": "python",
   "nbconvert_exporter": "python",
   "pygments_lexer": "ipython3",
   "version": "3.7.3"
  }
 },
 "nbformat": 4,
 "nbformat_minor": 2
}
