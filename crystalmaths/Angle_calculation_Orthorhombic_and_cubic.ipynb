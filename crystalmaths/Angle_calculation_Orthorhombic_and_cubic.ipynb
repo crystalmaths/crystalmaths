{
 "cells": [
  {
   "cell_type": "code",
   "execution_count": 2,
   "metadata": {},
   "outputs": [],
   "source": [
    "import math\n",
    "import pandas as pd\n",
    "import numpy as np"
   ]
  },
  {
   "cell_type": "code",
   "execution_count": 3,
   "metadata": {},
   "outputs": [],
   "source": [
    "def dotproduct(point1, point2):\n",
    "    \"\"\"This is the function used to calculate the dot product between two vectors, which will be used as numerator for angle calculation\"\"\"\n",
    "    result = 0\n",
    "    for i in range (len(point1)):\n",
    "        result = result + point1[i]*point2[i]\n",
    "    return result\n",
    "\n",
    "def lengthproduct(point1, point2):\n",
    "    \"\"\"This is the function used to calculate the length of given two vectors and their product, which will be used as denominator for angle calculation\"\"\"\n",
    "    len1 = 0\n",
    "    len2 = 0\n",
    "    for i in range (len(point1)):\n",
    "        len1 = len1 + point1[i]*point1[i]\n",
    "    for i in range (len(point2)):\n",
    "        len2 = len2 + point2[i]*point2[i]\n",
    "    len1 = math.sqrt(len1)\n",
    "    len2 = math.sqrt(len2)\n",
    "    lengthproduct = len1*len2\n",
    "    return lengthproduct\n",
    "\n",
    "def angle (point1, point2):\n",
    "    \"\"\"This is the function used to calculate the angle between two vectors, by calculating arccosine of dot product divide by length product\"\"\"\n",
    "    rad = math.acos(dotproduct(point1, point2)/lengthproduct(point1, point2))\n",
    "    degree = 180*rad/math.pi\n",
    "    return degree"
   ]
  },
  {
   "cell_type": "code",
   "execution_count": 38,
   "metadata": {},
   "outputs": [],
   "source": [
    "def angle_Orthorhombic (plane1, plane2, lattice_parameter):\n",
    "    \"\"\"This is the function used to calculate the angle between two planes in miller indices for Orthorhombic, by calculating arccosine of dot product divide by length product\n",
    "    plane1 in format of [h1, k1, l1], plane2 in format of [h2, k2, l2]. lattice_parameter should be written in \n",
    "    format of [a, b, c]\"\"\"\n",
    "    new_plane1 = np.zeros(len(lattice_parameter))\n",
    "    new_plane2 = np.zeros(len(lattice_parameter))\n",
    "    for i in range(len(plane1)):\n",
    "        new_plane1[i] = plane1[i]/lattice_parameter[i]\n",
    "        new_plane2[i] = plane2[i]/lattice_parameter[i]\n",
    "    rad = math.acos(dotproduct(new_plane1, new_plane2)/lengthproduct(new_plane1, new_plane2))\n",
    "    degree = 180*rad/math.pi\n",
    "    return degree\n"
   ]
  },
  {
   "cell_type": "code",
   "execution_count": 40,
   "metadata": {},
   "outputs": [
    {
     "name": "stdout",
     "output_type": "stream",
     "text": [
      "48.189685104221404\n"
     ]
    }
   ],
   "source": [
    "'This is an example'\n",
    "plane1 = [2, 0, 0]\n",
    "plane2 = [1, 1, 1]\n",
    "lattice_parameter = [1, 1, 2]\n",
    "print(angle_Orthorhombic(plane1, plane2, lattice_parameter))\n"
   ]
  },
  {
   "cell_type": "code",
   "execution_count": null,
   "metadata": {},
   "outputs": [],
   "source": []
  }
 ],
 "metadata": {
  "kernelspec": {
   "display_name": "Python 3",
   "language": "python",
   "name": "python3"
  },
  "language_info": {
   "codemirror_mode": {
    "name": "ipython",
    "version": 3
   },
   "file_extension": ".py",
   "mimetype": "text/x-python",
   "name": "python",
   "nbconvert_exporter": "python",
   "pygments_lexer": "ipython3",
   "version": "3.7.3"
  }
 },
 "nbformat": 4,
 "nbformat_minor": 2
}
