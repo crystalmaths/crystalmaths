{
 "cells": [
  {
   "cell_type": "markdown",
   "metadata": {},
   "source": [
    "This notebook is for creating the functionality of querying an external database and extracting data from that database, and storing it into a numpy array"
   ]
  },
  {
   "cell_type": "code",
   "execution_count": 29,
   "metadata": {},
   "outputs": [],
   "source": [
    "#import the needed packages\n",
    "import numpy as np\n",
    "import pandas as pd\n",
    "from bs4 import BeautifulSoup\n",
    "from bs4.dammit import EncodingDetector\n",
    "import requests\n",
    "import re\n",
    "import csv"
   ]
  },
  {
   "cell_type": "code",
   "execution_count": 169,
   "metadata": {},
   "outputs": [],
   "source": [
    "#define the needed functions\n",
    "#take one input that's a list to be able to have a variable number of dspacings\n",
    "def make_web_address(dspacing1, dspacing2):\n",
    "    '''\n",
    "    make_web_address will compile a string to use for a webpage address\n",
    "    \n",
    "    For example, if I want to search for rutile on the American \n",
    "    Minerals Society webpage, I might use this address:\n",
    "    \n",
    "    http://rruff.geo.arizona.edu/AMS/result.php?diff=vals(3.2435,2.4836),opt(),type(d-spacing),tolerance(.001)\n",
    "    \n",
    "    Where 3.2435 and 2.4836 are two d spacings in the rutile structure\n",
    "    '''\n",
    "    \n",
    "    web_address = 'http://rruff.geo.arizona.edu/AMS/result.php?diff=vals(' + str(dspacing1) + ',' + str(dspacing2) +'),opt(),type(d-spacing),tolerance(.001)'\n",
    "    \n",
    "    return web_address\n",
    "\n",
    "def find_diffraction_files(href):\n",
    "    '''\n",
    "    find_diffraction_files is a sorting function that can be passed \n",
    "    into compile_links to generate a specific set of diffraction text \n",
    "    file web addresses from the American Mineral Society database\n",
    "    '''\n",
    "# commented out logic will return the text file links\n",
    "#     return href and re.compile(\"txt\").search(href) and not re.compile(\"dif\").search(href)        \n",
    "    return href and re.compile(\"dif\").search(href)        \n",
    "\n",
    "def compile_links(web_address):\n",
    "    '''\n",
    "    access_web accesses a webpage at a given address,\n",
    "    finds all of the links on that page, and appends those links \n",
    "    to a list called links.\n",
    "    \n",
    "    inputs are a web address, and the array for storing links\n",
    "    '''\n",
    "    \n",
    "    html_page = requests.get(web_address)\n",
    "    http_encoding = html_page.encoding if 'charset' in html_page.headers.get('content-type', '').lower() else None\n",
    "    html_encoding = EncodingDetector.find_declared_encoding(html_page.content, is_html=True)\n",
    "    encoding = html_encoding or http_encoding\n",
    "    soup = BeautifulSoup(html_page.content, from_encoding=encoding)\n",
    "    links_list = []\n",
    "    for link in soup.find_all(href=find_diffraction_files):\n",
    "        links_list.append('http://rruff.geo.arizona.edu'+link['href'])\n",
    "    \n",
    "    return links_list\n",
    "\n",
    "def get_diffraction_data(links_list, dspacing1, dspacing2, pot_planes_df):\n",
    "    '''\n",
    "    get_diffraction_data will compile crystal structure parameters and \n",
    "    indexes of all potential planes into a pandas DataFrame\n",
    "    \n",
    "    Inputs are an array of truncated href, two d spacings from the FFT, \n",
    "    and the pandas DataFrame into which data will be stored. Returns the\n",
    "    populated DataFrame.\n",
    "    '''\n",
    "    \n",
    "#     with requests.Session() as s:\n",
    "#     download = s.get(CSV_URL)\n",
    "\n",
    "#     decoded_content = download.content.decode('utf-8')\n",
    "\n",
    "#     cr = csv.reader(decoded_content.splitlines(), delimiter=',')\n",
    "#     my_list = list(cr)\n",
    "#     for row in my_list:\n",
    "#         print(row)\n",
    "    \n",
    "    for link in links_list:\n",
    "        with requests.Session() as s:\n",
    "            download = s.get(link)\n",
    "            decoded_content = download.content.decode('utf-8')\n",
    "            metadata_list = []\n",
    "            reader = csv.reader(decoded_content.splitlines())\n",
    "            raw_data_list = []\n",
    "            for i, row in enumerate(reader):\n",
    "                #This is for handling [], empty rows\n",
    "                if len(row) != 0:\n",
    "                    raw_data_list.append(row)\n",
    "                    string = row[0]\n",
    "                    if string.find('2-THETA') != -1:\n",
    "                        metadata_end_index = i\n",
    "                    elif string.find('==============================') != -1:\n",
    "                        data_end_index = i\n",
    "                    else:\n",
    "                        pass\n",
    "                \n",
    "            metadata_list = raw_data_list[0:metadata_end_index-1]\n",
    "            data_list = raw_data_list[metadata_end_index-1:data_end_index-1]\n",
    "            data_df = pd.DataFrame(data_list, delimiter =' ')\n",
    "#             print(metadata_list,'\\n\\n\\n\\n', data_list)\n",
    "    \n",
    "        \n",
    "#         dif_text_url = requests.get(entry)\n",
    "#         dif_text = dif_text_url.csv\n",
    "        \n",
    "#         temp_df = pd.read_csv(entry)\n",
    " \n",
    "    # \n",
    "    return data_df\n",
    "  "
   ]
  },
  {
   "cell_type": "markdown",
   "metadata": {},
   "source": [
    "generate a web search of the minerals with matching d spacings"
   ]
  },
  {
   "cell_type": "code",
   "execution_count": 68,
   "metadata": {},
   "outputs": [
    {
     "data": {
      "text/plain": [
       "'http://rruff.geo.arizona.edu/AMS/result.php?diff=vals(3.3,3.5),opt(),type(d-spacing),tolerance(.001)'"
      ]
     },
     "execution_count": 68,
     "metadata": {},
     "output_type": "execute_result"
    }
   ],
   "source": [
    "dspacing1 = 3.3\n",
    "dspacing2 = 3.5\n",
    "#may need put this into a wrapper function\n",
    "#create a skeleton for a wrapper function\n",
    "web_address = make_web_address(dspacing1, dspacing2)\n",
    "web_address"
   ]
  },
  {
   "cell_type": "markdown",
   "metadata": {},
   "source": [
    "create a list of links to diffraction text files for matching mineral structures"
   ]
  },
  {
   "cell_type": "code",
   "execution_count": 69,
   "metadata": {},
   "outputs": [
    {
     "data": {
      "text/plain": [
       "['http://rruff.geo.arizona.edu/AMS/download.php?id=01755.txt&down=text',\n",
       " 'http://rruff.geo.arizona.edu/AMS/download.php?id=16200.txt&down=text',\n",
       " 'http://rruff.geo.arizona.edu/AMS/download.php?id=17097.txt&down=text',\n",
       " 'http://rruff.geo.arizona.edu/AMS/download.php?id=18445.txt&down=text',\n",
       " 'http://rruff.geo.arizona.edu/AMS/download.php?id=20133.txt&down=text']"
      ]
     },
     "execution_count": 69,
     "metadata": {},
     "output_type": "execute_result"
    }
   ],
   "source": [
    "links_list = compile_links(web_address)\n",
    "links_list"
   ]
  },
  {
   "cell_type": "code",
   "execution_count": 170,
   "metadata": {},
   "outputs": [
    {
     "data": {
      "text/html": [
       "<div>\n",
       "<style scoped>\n",
       "    .dataframe tbody tr th:only-of-type {\n",
       "        vertical-align: middle;\n",
       "    }\n",
       "\n",
       "    .dataframe tbody tr th {\n",
       "        vertical-align: top;\n",
       "    }\n",
       "\n",
       "    .dataframe thead th {\n",
       "        text-align: right;\n",
       "    }\n",
       "</style>\n",
       "<table border=\"1\" class=\"dataframe\">\n",
       "  <thead>\n",
       "    <tr style=\"text-align: right;\">\n",
       "      <th></th>\n",
       "      <th>0</th>\n",
       "    </tr>\n",
       "  </thead>\n",
       "  <tbody>\n",
       "    <tr>\n",
       "      <th>0</th>\n",
       "      <td>2-THETA      INTENSITY    D-SPA...</td>\n",
       "    </tr>\n",
       "    <tr>\n",
       "      <th>1</th>\n",
       "      <td>6.31          5.36       14.0...</td>\n",
       "    </tr>\n",
       "    <tr>\n",
       "      <th>2</th>\n",
       "      <td>8.93         33.15        9.8...</td>\n",
       "    </tr>\n",
       "    <tr>\n",
       "      <th>3</th>\n",
       "      <td>12.65         13.77        7.0...</td>\n",
       "    </tr>\n",
       "    <tr>\n",
       "      <th>4</th>\n",
       "      <td>14.15          2.42        6.2...</td>\n",
       "    </tr>\n",
       "    <tr>\n",
       "      <th>...</th>\n",
       "      <td>...</td>\n",
       "    </tr>\n",
       "    <tr>\n",
       "      <th>151</th>\n",
       "      <td>88.92          3.56        1.1...</td>\n",
       "    </tr>\n",
       "    <tr>\n",
       "      <th>152</th>\n",
       "      <td>88.99          2.06        1.0...</td>\n",
       "    </tr>\n",
       "    <tr>\n",
       "      <th>153</th>\n",
       "      <td>89.29          1.18        1.0...</td>\n",
       "    </tr>\n",
       "    <tr>\n",
       "      <th>154</th>\n",
       "      <td>89.38          3.50        1.0...</td>\n",
       "    </tr>\n",
       "    <tr>\n",
       "      <th>155</th>\n",
       "      <td>89.64          1.30        1.0...</td>\n",
       "    </tr>\n",
       "  </tbody>\n",
       "</table>\n",
       "<p>156 rows × 1 columns</p>\n",
       "</div>"
      ],
      "text/plain": [
       "                                                     0\n",
       "0                   2-THETA      INTENSITY    D-SPA...\n",
       "1                     6.31          5.36       14.0...\n",
       "2                     8.93         33.15        9.8...\n",
       "3                    12.65         13.77        7.0...\n",
       "4                    14.15          2.42        6.2...\n",
       "..                                                 ...\n",
       "151                  88.92          3.56        1.1...\n",
       "152                  88.99          2.06        1.0...\n",
       "153                  89.29          1.18        1.0...\n",
       "154                  89.38          3.50        1.0...\n",
       "155                  89.64          1.30        1.0...\n",
       "\n",
       "[156 rows x 1 columns]"
      ]
     },
     "execution_count": 170,
     "metadata": {},
     "output_type": "execute_result"
    }
   ],
   "source": [
    "dspacing1 = 3.3\n",
    "dspacing2 = 3.5\n",
    "\n",
    "column_names = [\"mineral\", \"symetry\", \"a\", \"b\", \"c\", \"alpha\", \"beta\", \"gama\", \"dspacing\", \"h\", \"k\", \"l\"]\n",
    "pot_planes_df = pd.DataFrame(columns = column_names)\n",
    "\n",
    "get_diffraction_data(links_list, dspacing1, dspacing2, pot_planes_df)"
   ]
  },
  {
   "cell_type": "code",
   "execution_count": null,
   "metadata": {},
   "outputs": [],
   "source": []
  },
  {
   "cell_type": "code",
   "execution_count": null,
   "metadata": {},
   "outputs": [],
   "source": []
  }
 ],
 "metadata": {
  "kernelspec": {
   "display_name": "Python 3",
   "language": "python",
   "name": "python3"
  },
  "language_info": {
   "codemirror_mode": {
    "name": "ipython",
    "version": 3
   },
   "file_extension": ".py",
   "mimetype": "text/x-python",
   "name": "python",
   "nbconvert_exporter": "python",
   "pygments_lexer": "ipython3",
   "version": "3.7.3"
  }
 },
 "nbformat": 4,
 "nbformat_minor": 2
}
