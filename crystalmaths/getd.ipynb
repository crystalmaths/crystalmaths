{
 "cells": [
  {
   "cell_type": "markdown",
   "metadata": {},
   "source": [
    "This notebook is for creating the functionality of querying an external database and extracting data from that database, and storing it into a numpy array"
   ]
  },
  {
   "cell_type": "code",
   "execution_count": 12,
   "metadata": {},
   "outputs": [],
   "source": [
    "#import the needed packages\n",
    "import numpy as np\n",
    "from lxml import html\n",
    "import requests"
   ]
  },
  {
   "cell_type": "code",
   "execution_count": 14,
   "metadata": {},
   "outputs": [],
   "source": [
    "#define the needed functions\n",
    "\n",
    "def make_web_address(dspacing1, dspacing2):\n",
    "    '''\n",
    "    This function will compile a string to use for a webpage address\n",
    "    \n",
    "    For example, if I want to search for rutile on the American \n",
    "    Minerals Society webpage, I might use this address:\n",
    "    \n",
    "    http://rruff.geo.arizona.edu/AMS/result.php?diff=vals(3.2435,2.4836),opt(),type(d-spacing),tolerance(.001)\n",
    "    \n",
    "    Where 3.2435 and 2.4836 are two d spacings in the rutile structure\n",
    "    '''\n",
    "    \n",
    "    web_address = 'http://rruff.geo.arizona.edu/AMS/result.php?diff=vals(' + str(dspacing1) + ',' + str(dspacing2) +'),opt(),type(d-spacing),tolerance(.001)'\n",
    "    \n",
    "    return web_address\n",
    "\n",
    "def access_web(web_address):\n",
    "    '''\n",
    "    This function will access a webpage at a given address\n",
    "    \n",
    "    page will store the desired web page as a temporary file\n",
    "    \n",
    "    tree parses the webpage in a tree structure\n",
    "    \n",
    "    structures extracts the desired structures from the webpage\n",
    "    '''\n",
    "    \n",
    "    page = requests.get(web_address)\n",
    "    tree = html.fromstring(page.content)\n",
    "    \n",
    "    structures = tree.xpath('//htmlclass[@title=\"htmltitle\"]/text()')\n",
    "    \n",
    "    return\n",
    "\n",
    "def mine_data(dspacing1, dspacing2):\n",
    "    '''\n",
    "    This function will collect the data from the webpage, append \n",
    "    that data into an array, and then return the array\n",
    "    '''\n",
    "    array = np.array()\n",
    "    \n",
    "    return array\n"
   ]
  },
  {
   "cell_type": "markdown",
   "metadata": {},
   "source": [
    "let's test the functions to see if we can collect the data given two d spacings"
   ]
  },
  {
   "cell_type": "code",
   "execution_count": 15,
   "metadata": {},
   "outputs": [
    {
     "ename": "NameError",
     "evalue": "name 'web_address' is not defined",
     "output_type": "error",
     "traceback": [
      "\u001b[0;31m---------------------------------------------------------------------------\u001b[0m",
      "\u001b[0;31mNameError\u001b[0m                                 Traceback (most recent call last)",
      "\u001b[0;32m<ipython-input-15-0bf3316d298b>\u001b[0m in \u001b[0;36m<module>\u001b[0;34m\u001b[0m\n\u001b[1;32m      3\u001b[0m \u001b[0;34m\u001b[0m\u001b[0m\n\u001b[1;32m      4\u001b[0m \u001b[0mmake_web_address\u001b[0m\u001b[0;34m(\u001b[0m\u001b[0mdspacing1\u001b[0m\u001b[0;34m,\u001b[0m \u001b[0mdspacing2\u001b[0m\u001b[0;34m)\u001b[0m\u001b[0;34m\u001b[0m\u001b[0;34m\u001b[0m\u001b[0m\n\u001b[0;32m----> 5\u001b[0;31m \u001b[0maccess_web\u001b[0m\u001b[0;34m(\u001b[0m\u001b[0mweb_address\u001b[0m\u001b[0;34m)\u001b[0m\u001b[0;34m\u001b[0m\u001b[0;34m\u001b[0m\u001b[0m\n\u001b[0m\u001b[1;32m      6\u001b[0m \u001b[0mmine_data\u001b[0m\u001b[0;34m(\u001b[0m\u001b[0mdspacing1\u001b[0m\u001b[0;34m,\u001b[0m \u001b[0mdspacing2\u001b[0m\u001b[0;34m)\u001b[0m\u001b[0;34m\u001b[0m\u001b[0;34m\u001b[0m\u001b[0m\n",
      "\u001b[0;31mNameError\u001b[0m: name 'web_address' is not defined"
     ]
    }
   ],
   "source": [
    "dspacing1 = 3.3\n",
    "dspacing2 = 3.5\n",
    "\n",
    "make_web_address(dspacing1, dspacing2)\n",
    "access_web(web_address)\n",
    "mine_data(dspacing1, dspacing2)"
   ]
  },
  {
   "cell_type": "code",
   "execution_count": null,
   "metadata": {},
   "outputs": [],
   "source": []
  }
 ],
 "metadata": {
  "kernelspec": {
   "display_name": "Python 3",
   "language": "python",
   "name": "python3"
  },
  "language_info": {
   "codemirror_mode": {
    "name": "ipython",
    "version": 3
   },
   "file_extension": ".py",
   "mimetype": "text/x-python",
   "name": "python",
   "nbconvert_exporter": "python",
   "pygments_lexer": "ipython3",
   "version": "3.7.4"
  }
 },
 "nbformat": 4,
 "nbformat_minor": 2
}
