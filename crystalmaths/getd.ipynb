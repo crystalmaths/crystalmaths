{
 "cells": [
  {
   "cell_type": "markdown",
   "metadata": {},
   "source": [
    "This notebook is for creating the functionality of querying an external database and extracting data from that database, and storing it into a numpy array"
   ]
  },
  {
   "cell_type": "code",
   "execution_count": 57,
   "metadata": {
    "scrolled": true
   },
   "outputs": [],
   "source": [
    "#import the needed packages\n",
    "import numpy as np\n",
    "from bs4 import BeautifulSoup\n",
    "from bs4.dammit import EncodingDetector\n",
    "import requests\n",
    "import re"
   ]
  },
  {
   "cell_type": "code",
   "execution_count": 72,
   "metadata": {},
   "outputs": [],
   "source": [
    "#define the needed functions\n",
    "\n",
    "def make_web_address(dspacing1, dspacing2):\n",
    "    '''\n",
    "    make_web_address will compile a string to use for a webpage address\n",
    "    \n",
    "    For example, if I want to search for rutile on the American \n",
    "    Minerals Society webpage, I might use this address:\n",
    "    \n",
    "    http://rruff.geo.arizona.edu/AMS/result.php?diff=vals(3.2435,2.4836),opt(),type(d-spacing),tolerance(.001)\n",
    "    \n",
    "    Where 3.2435 and 2.4836 are two d spacings in the rutile structure\n",
    "    '''\n",
    "    \n",
    "    web_address = 'http://rruff.geo.arizona.edu/AMS/result.php?diff=vals(' + str(dspacing1) + ',' + str(dspacing2) +'),opt(),type(d-spacing),tolerance(.001)'\n",
    "    \n",
    "    return web_address\n",
    "\n",
    "def compile_links(web_address):\n",
    "    '''\n",
    "    access_web accesses a webpage at a given address,\n",
    "    finds all of the links on that page, and appends those links \n",
    "    to a list called links.\n",
    "    '''\n",
    "    \n",
    "    html_page = requests.get(web_address)\n",
    "    http_encoding = html_page.encoding if 'charset' in html_page.headers.get('content-type', '').lower() else None\n",
    "    html_encoding = EncodingDetector.find_declared_encoding(html_page.content, is_html=True)\n",
    "    encoding = html_encoding or http_encoding\n",
    "    soup = BeautifulSoup(html_page.content, from_encoding=encoding)\n",
    "    links = []\n",
    "    \n",
    "    for link in soup.find_all('a', href=True):\n",
    "        links.append(link['href'])\n",
    "\n",
    "    return links\n",
    "\n",
    "def refine_links(links):\n",
    "    '''\n",
    "    refine_links takes the long list of all links on a page\n",
    "    as input, and generates a new list containing only the \n",
    "    links that lead to diffraction data text files.  \n",
    "    \n",
    "    '''\n",
    "    \n",
    "#    return refined_links\n",
    "\n",
    "#def mine_data(dspacing1, dspacing2):\n",
    "#    '''\n",
    "#    This function will collect the data from the webpage, append \n",
    "#    that data into an array, and then return the array\n",
    "#    '''\n",
    "#    array = np.array()\n",
    "#    \n",
    "#    return array\n"
   ]
  },
  {
   "cell_type": "markdown",
   "metadata": {},
   "source": [
    "let's test the functions to see if we can collect the data given two d spacings"
   ]
  },
  {
   "cell_type": "code",
   "execution_count": 73,
   "metadata": {},
   "outputs": [
    {
     "data": {
      "text/plain": [
       "'http://rruff.geo.arizona.edu/AMS/result.php?diff=vals(3.3,3.5),opt(),type(d-spacing),tolerance(.001)'"
      ]
     },
     "execution_count": 73,
     "metadata": {},
     "output_type": "execute_result"
    }
   ],
   "source": [
    "dspacing1 = 3.3\n",
    "dspacing2 = 3.5\n",
    "\n",
    "make_web_address(dspacing1, dspacing2)\n"
   ]
  },
  {
   "cell_type": "code",
   "execution_count": 74,
   "metadata": {},
   "outputs": [
    {
     "data": {
      "text/plain": [
       "['/AMS/amcsd.php',\n",
       " '/AMS/download.php?id=01755.amc&down=amc',\n",
       " '/doclib/hom/gillulyite.pdf',\n",
       " '/doclib/am/vol80/AM80_394.pdf',\n",
       " '/AMS/download.php?id=01755.amc&down=amc',\n",
       " '/AMS/download.php?id=01755.amc&down=text',\n",
       " '/AMS/download.php?id=01755.cif&down=cif',\n",
       " '/AMS/download.php?id=01755.cif&down=text',\n",
       " '/AMS/download.php?id=01755.txt&down=dif',\n",
       " '/AMS/download.php?id=01755.txt&down=text',\n",
       " \"javascript:viewJmol('01755')\",\n",
       " \"javascript:viewJmolPermalink('0001733')\",\n",
       " '/AMS/download.php?id=16200.amc&down=amc',\n",
       " '/AMS/download.php?id=16200.amc&down=amc',\n",
       " '/AMS/download.php?id=16200.amc&down=text',\n",
       " '/AMS/download.php?id=16200.cif&down=cif',\n",
       " '/AMS/download.php?id=16200.cif&down=text',\n",
       " '/AMS/download.php?id=16200.txt&down=dif',\n",
       " '/AMS/download.php?id=16200.txt&down=text',\n",
       " \"javascript:viewJmol('16200')\",\n",
       " \"javascript:viewJmolPermalink('0013157')\",\n",
       " '/AMS/download.php?id=17097.amc&down=amc',\n",
       " '/AMS/download.php?id=17097.amc&down=amc',\n",
       " '/AMS/download.php?id=17097.amc&down=text',\n",
       " '/AMS/download.php?id=17097.cif&down=cif',\n",
       " '/AMS/download.php?id=17097.cif&down=text',\n",
       " '/AMS/download.php?id=17097.txt&down=dif',\n",
       " '/AMS/download.php?id=17097.txt&down=text',\n",
       " \"javascript:viewJmol('17097')\",\n",
       " \"javascript:viewJmolPermalink('0013861')\",\n",
       " '/AMS/download.php?id=18445.amc&down=amc',\n",
       " '/doclib/hom/dervillite.pdf',\n",
       " '/AMS/download.php?id=18445.amc&down=amc',\n",
       " '/AMS/download.php?id=18445.amc&down=text',\n",
       " '/AMS/download.php?id=18445.cif&down=cif',\n",
       " '/AMS/download.php?id=18445.cif&down=text',\n",
       " '/AMS/download.php?id=18445.txt&down=dif',\n",
       " '/AMS/download.php?id=18445.txt&down=text',\n",
       " \"javascript:viewJmol('18445')\",\n",
       " \"javascript:viewJmolPermalink('0019987')\",\n",
       " '/AMS/download.php?id=20133.amc&down=amc',\n",
       " '/doclib/hom/muirite.pdf',\n",
       " '/AMS/download.php?id=20133.amc&down=amc',\n",
       " '/AMS/download.php?id=20133.amc&down=text',\n",
       " '/AMS/download.php?id=20133.cif&down=cif',\n",
       " '/AMS/download.php?id=20133.cif&down=text',\n",
       " '/AMS/download.php?id=20133.txt&down=dif',\n",
       " '/AMS/download.php?id=20133.txt&down=text',\n",
       " \"javascript:viewJmol('20133')\",\n",
       " \"javascript:viewJmolPermalink('0018352')\",\n",
       " '/AMS/amcsd.php']"
      ]
     },
     "execution_count": 74,
     "metadata": {},
     "output_type": "execute_result"
    }
   ],
   "source": [
    "web_address = 'http://rruff.geo.arizona.edu/AMS/result.php?diff=vals(3.3,3.5),opt(),type(d-spacing),tolerance(.001)'\n",
    "compile_links(web_address)"
   ]
  },
  {
   "cell_type": "code",
   "execution_count": null,
   "metadata": {},
   "outputs": [],
   "source": []
  }
 ],
 "metadata": {
  "kernelspec": {
   "display_name": "Python 3",
   "language": "python",
   "name": "python3"
  },
  "language_info": {
   "codemirror_mode": {
    "name": "ipython",
    "version": 3
   },
   "file_extension": ".py",
   "mimetype": "text/x-python",
   "name": "python",
   "nbconvert_exporter": "python",
   "pygments_lexer": "ipython3",
   "version": "3.7.4"
  }
 },
 "nbformat": 4,
 "nbformat_minor": 2
}
