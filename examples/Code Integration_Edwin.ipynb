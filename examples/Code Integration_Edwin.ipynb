{
 "cells": [
  {
   "cell_type": "code",
   "execution_count": 1,
   "metadata": {},
   "outputs": [],
   "source": [
    "import sys\n",
    "sys.path.append('..')\n",
    "import crystalmaths\n",
    "from crystalmaths.find_matching_angles import find_matching_angles\n",
    "import itertools\n",
    "import requests\n",
    "import numpy as np\n",
    "import pandas as pd\n",
    "%matplotlib qt\n",
    "# from crystalmaths import \n"
   ]
  },
  {
   "cell_type": "code",
   "execution_count": null,
   "metadata": {},
   "outputs": [],
   "source": [
    "image_filepath = r'C:\\Users\\lacho\\OneDrive - UW\\crystalmaths\\Local_data\\F20-atom_res-prev.jpg'\n",
    "\n",
    "image_object = crystalmaths.imagetools.ImageHandler(image_filepath=image_filepath)"
   ]
  },
  {
   "cell_type": "code",
   "execution_count": null,
   "metadata": {},
   "outputs": [],
   "source": [
    "image_object.get_scale_ratio()\n",
    "image_object.scale_ratio"
   ]
  },
  {
   "cell_type": "code",
   "execution_count": null,
   "metadata": {},
   "outputs": [],
   "source": [
    "image_object.get_planes()"
   ]
  },
  {
   "cell_type": "code",
   "execution_count": null,
   "metadata": {},
   "outputs": [],
   "source": [
    "image_object.point_coordinates"
   ]
  },
  {
   "cell_type": "code",
   "execution_count": null,
   "metadata": {},
   "outputs": [],
   "source": [
    "#Attempting to shift origin by subtracting center value from points.\n",
    "\n",
    "p1, p2 = image_object.point_coordinates\n",
    "print(p1, p2, image_object.image_array.shape[0]/2)\n",
    "p1[0] = p1[0] - image_object.image_array.shape[0]/2\n",
    "p1[1] = p1[1] - image_object.image_array.shape[1]/2\n",
    "p2[0] = p2[0] - image_object.image_array.shape[0]/2\n",
    "p2[1] = p2[1] - image_object.image_array.shape[1]/2\n",
    "\n",
    "print(p1, p2)"
   ]
  },
  {
   "cell_type": "code",
   "execution_count": null,
   "metadata": {},
   "outputs": [],
   "source": [
    "fft_angle = crystalmaths.angles_from_fft.angle(p1,p2)\n",
    "fft_angle"
   ]
  },
  {
   "cell_type": "code",
   "execution_count": null,
   "metadata": {},
   "outputs": [],
   "source": [
    "d1 = crystalmaths.distance_from_fft.dis_cal(p1, image_object.scale_ratio)\n",
    "d2 = crystalmaths.distance_from_fft.dis_cal(p2, image_object.scale_ratio)\n",
    "\n",
    "print(d1, d2)"
   ]
  },
  {
   "cell_type": "code",
   "execution_count": 2,
   "metadata": {},
   "outputs": [
    {
     "name": "stdout",
     "output_type": "stream",
     "text": [
      "http://rruff.geo.arizona.edu/AMS/result.php?diff=vals(3.3,3.5),opt(),type(d-spacing),tolerance(0.001)\n"
     ]
    }
   ],
   "source": [
    "d1 = 3.3\n",
    "d2 = 3.5\n",
    "link = crystalmaths.get_d.make_web_address(d1, d2, tolerance=0.001)\n",
    "link_list = crystalmaths.get_d.compile_links(link)\n",
    "print(link)"
   ]
  },
  {
   "cell_type": "code",
   "execution_count": 10,
   "metadata": {},
   "outputs": [],
   "source": [
    "query_results = crystalmaths.get_d.get_d(link_list, [d1, d2])\n",
    "result_df, metadata_df"
   ]
  },
  {
   "cell_type": "code",
   "execution_count": 24,
   "metadata": {},
   "outputs": [],
   "source": [
    "def get_zone_axis(image_object, d_spacing_tolerance, angle_tolerance):\n",
    "    \"\"\"\n",
    "    This function will take one image_object which has had two planes\n",
    "    selected on it. The two points (e.g. d1, d2) will be passed as \n",
    "    arguments to get_d, which searches the ACMS online database to\n",
    "    generate a list of candidate minerals, based on the d-spacing \n",
    "    of the selected points from fft image.\n",
    "    \n",
    "    \n",
    "    \n",
    "    \"\"\"\n",
    "    link = crystalmaths.get_d.make_web_address(d1, d2, tolerance=0.001)\n",
    "    link_list = crystalmaths.get_d.compile_links(link)\n",
    "    crystalmaths.get_d.get_d()\n",
    "    return\n",
    "\n",
    "\n",
    "for i,result in enumerate(query_results):\n",
    "    data_df = result[0]\n",
    "    metadata_df = result[1]\n",
    "    temp_object = crystalmaths.angles_from_structure_data.AllAnglePairs(data_df, metadata_df)\n",
    "    new_tuple_list.append(tuple(temp_object.result_df, metadata_df))\n",
    "# temp_object.result_df.head()\n",
    "\n"
   ]
  },
  {
   "cell_type": "code",
   "execution_count": 26,
   "metadata": {},
   "outputs": [
    {
     "data": {
      "text/html": [
       "<div>\n",
       "<style scoped>\n",
       "    .dataframe tbody tr th:only-of-type {\n",
       "        vertical-align: middle;\n",
       "    }\n",
       "\n",
       "    .dataframe tbody tr th {\n",
       "        vertical-align: top;\n",
       "    }\n",
       "\n",
       "    .dataframe thead th {\n",
       "        text-align: right;\n",
       "    }\n",
       "</style>\n",
       "<table border=\"1\" class=\"dataframe\">\n",
       "  <thead>\n",
       "    <tr style=\"text-align: right;\">\n",
       "      <th></th>\n",
       "      <th>D-REF1</th>\n",
       "      <th>D-REF2</th>\n",
       "      <th>D-SPACING1</th>\n",
       "      <th>D-SPACING2</th>\n",
       "      <th>H1</th>\n",
       "      <th>K1</th>\n",
       "      <th>L1</th>\n",
       "      <th>H2</th>\n",
       "      <th>K2</th>\n",
       "      <th>L2</th>\n",
       "      <th>angle</th>\n",
       "      <th>angle-fft</th>\n",
       "      <th>angle match</th>\n",
       "      <th>zone axis</th>\n",
       "    </tr>\n",
       "  </thead>\n",
       "  <tbody>\n",
       "    <tr>\n",
       "      <th>0</th>\n",
       "      <td>3.3</td>\n",
       "      <td>3.5</td>\n",
       "      <td>3.3955</td>\n",
       "      <td>3.5916</td>\n",
       "      <td>4.0</td>\n",
       "      <td>1.0</td>\n",
       "      <td>0.0</td>\n",
       "      <td>3.0</td>\n",
       "      <td>0.0</td>\n",
       "      <td>1.0</td>\n",
       "      <td>41.699643</td>\n",
       "      <td>40.254734</td>\n",
       "      <td>True</td>\n",
       "      <td>[1.0, -4.0, -3.0]</td>\n",
       "    </tr>\n",
       "    <tr>\n",
       "      <th>1</th>\n",
       "      <td>3.3</td>\n",
       "      <td>3.5</td>\n",
       "      <td>3.3955</td>\n",
       "      <td>3.5000</td>\n",
       "      <td>4.0</td>\n",
       "      <td>1.0</td>\n",
       "      <td>0.0</td>\n",
       "      <td>4.0</td>\n",
       "      <td>0.0</td>\n",
       "      <td>0.0</td>\n",
       "      <td>14.036243</td>\n",
       "      <td>40.254734</td>\n",
       "      <td>False</td>\n",
       "      <td>None</td>\n",
       "    </tr>\n",
       "    <tr>\n",
       "      <th>2</th>\n",
       "      <td>3.3</td>\n",
       "      <td>3.5</td>\n",
       "      <td>3.3955</td>\n",
       "      <td>3.4789</td>\n",
       "      <td>4.0</td>\n",
       "      <td>1.0</td>\n",
       "      <td>0.0</td>\n",
       "      <td>3.0</td>\n",
       "      <td>1.0</td>\n",
       "      <td>1.0</td>\n",
       "      <td>38.418638</td>\n",
       "      <td>40.254734</td>\n",
       "      <td>True</td>\n",
       "      <td>[1.0, -4.0, 1.0]</td>\n",
       "    </tr>\n",
       "    <tr>\n",
       "      <th>3</th>\n",
       "      <td>3.3</td>\n",
       "      <td>3.5</td>\n",
       "      <td>3.2998</td>\n",
       "      <td>3.5916</td>\n",
       "      <td>3.0</td>\n",
       "      <td>3.0</td>\n",
       "      <td>0.0</td>\n",
       "      <td>3.0</td>\n",
       "      <td>0.0</td>\n",
       "      <td>1.0</td>\n",
       "      <td>57.029685</td>\n",
       "      <td>40.254734</td>\n",
       "      <td>False</td>\n",
       "      <td>None</td>\n",
       "    </tr>\n",
       "    <tr>\n",
       "      <th>4</th>\n",
       "      <td>3.3</td>\n",
       "      <td>3.5</td>\n",
       "      <td>3.2998</td>\n",
       "      <td>3.5000</td>\n",
       "      <td>3.0</td>\n",
       "      <td>3.0</td>\n",
       "      <td>0.0</td>\n",
       "      <td>4.0</td>\n",
       "      <td>0.0</td>\n",
       "      <td>0.0</td>\n",
       "      <td>45.000000</td>\n",
       "      <td>40.254734</td>\n",
       "      <td>False</td>\n",
       "      <td>None</td>\n",
       "    </tr>\n",
       "    <tr>\n",
       "      <th>5</th>\n",
       "      <td>3.3</td>\n",
       "      <td>3.5</td>\n",
       "      <td>3.2998</td>\n",
       "      <td>3.4789</td>\n",
       "      <td>3.0</td>\n",
       "      <td>3.0</td>\n",
       "      <td>0.0</td>\n",
       "      <td>3.0</td>\n",
       "      <td>1.0</td>\n",
       "      <td>1.0</td>\n",
       "      <td>45.344195</td>\n",
       "      <td>40.254734</td>\n",
       "      <td>False</td>\n",
       "      <td>None</td>\n",
       "    </tr>\n",
       "  </tbody>\n",
       "</table>\n",
       "</div>"
      ],
      "text/plain": [
       "   D-REF1  D-REF2  D-SPACING1  D-SPACING2   H1   K1   L1   H2   K2   L2  \\\n",
       "0     3.3     3.5      3.3955      3.5916  4.0  1.0  0.0  3.0  0.0  1.0   \n",
       "1     3.3     3.5      3.3955      3.5000  4.0  1.0  0.0  4.0  0.0  0.0   \n",
       "2     3.3     3.5      3.3955      3.4789  4.0  1.0  0.0  3.0  1.0  1.0   \n",
       "3     3.3     3.5      3.2998      3.5916  3.0  3.0  0.0  3.0  0.0  1.0   \n",
       "4     3.3     3.5      3.2998      3.5000  3.0  3.0  0.0  4.0  0.0  0.0   \n",
       "5     3.3     3.5      3.2998      3.4789  3.0  3.0  0.0  3.0  1.0  1.0   \n",
       "\n",
       "       angle  angle-fft  angle match          zone axis  \n",
       "0  41.699643  40.254734         True  [1.0, -4.0, -3.0]  \n",
       "1  14.036243  40.254734        False               None  \n",
       "2  38.418638  40.254734         True   [1.0, -4.0, 1.0]  \n",
       "3  57.029685  40.254734        False               None  \n",
       "4  45.000000  40.254734        False               None  \n",
       "5  45.344195  40.254734        False               None  "
      ]
     },
     "execution_count": 26,
     "metadata": {},
     "output_type": "execute_result"
    }
   ],
   "source": [
    "fake_angle = [temp_object.result_df['angle'].mean()]\n",
    "result_df = temp_object.result_df\n",
    "result_df = find_matching_angles(fake_angle, result_df, 2)\n",
    "result_df"
   ]
  },
  {
   "cell_type": "markdown",
   "metadata": {},
   "source": [
    "Future Work"
   ]
  },
  {
   "cell_type": "markdown",
   "metadata": {},
   "source": [
    "# Edwin's code starts from here."
   ]
  },
  {
   "cell_type": "code",
   "execution_count": null,
   "metadata": {},
   "outputs": [],
   "source": [
    "#This is the function passing all data frame of query results\n",
    "#Start of all testing and comparison\n",
    "full_angle_list = []\n",
    "full_plane1_list = []\n",
    "full_plane2_list = []\n",
    "for k in range(len(query_results)):\n",
    "    plane1_list = []\n",
    "    plane2_list = []\n",
    "    df1 = query_results[k][0]\n",
    "    df11 = df1.loc[df1['D-REF'] == 3.3]\n",
    "    df12 = df1.loc[df1['D-REF'] == 3.5]\n",
    "    df_p = query_results[k][1]\n",
    "    a = []\n",
    "    lattice_parameter = [float(df_p['a'][0]), float(df_p['b'][0]), float(df_p['c'][0])]\n",
    "    alpha = float(df_p['alpha'][0])\n",
    "    beta = float(df_p['beta'][0])\n",
    "    gamma = float(df_p['gamma'][0])\n",
    "    for i in range(df11.shape[0]):\n",
    "        for j in range(df12.shape[0]):\n",
    "            plane1 = [df11['H'].iloc[i], df11['K'].iloc[i], df11['L'].iloc[i]]\n",
    "            plane2 = [df12['H'].iloc[j], df12['K'].iloc[j], df12['L'].iloc[j]]\n",
    "            a.append(crystalmaths.temp_angles_from_structure_data_Edwin.angle_for_all(plane1, plane2, lattice_parameter, alpha, beta, gamma))\n",
    "            plane1_list.append(plane1)\n",
    "            plane2_list.append(plane2)\n",
    "#     print(a)\n",
    "    full_angle_list.append(a)\n",
    "    full_plane1_list.append(plane1_list)\n",
    "    full_plane2_list.append(plane2_list)\n",
    "    \n",
    "full_angle_list"
   ]
  },
  {
   "cell_type": "code",
   "execution_count": null,
   "metadata": {},
   "outputs": [],
   "source": [
    "#Given angles and find zone axis\n",
    "angle_list1 = [11, 19, 34, 42]\n",
    "tolerance = 1\n",
    "matching_angle_list = []\n",
    "for i in range(5):\n",
    "    angle_list2 = full_angle_list[i]\n",
    "    c = crystalmaths.find_matching_angles.find_matching_angles(angle_list1, angle_list2, tolerance)\n",
    "    matching_angle_list.append(c)\n",
    "    \n",
    "interested_plane1 = []\n",
    "interested_plane2 = []\n",
    "zone_axis_dic = {}\n",
    "for j in range(len(matching_angle_list)):\n",
    "    zone_axis = []\n",
    "    for k in range(len(matching_angle_list[j])):\n",
    "        for l in range(len(full_angle_list[j])):\n",
    "            if matching_angle_list[j][k][1] == full_angle_list[j][l]:\n",
    "                interested_plane1.append(full_plane1_list[j][l])\n",
    "                interested_plane2.append(full_plane2_list[j][l])\n",
    "                zone_axis.append(np.cross(full_plane1_list[j][l], full_plane2_list[j][l]))  \n",
    "                zone_axis_dic[query_results[j][1]['Mineral_Name'][0]] = zone_axis\n",
    "print(zone_axis_dic)\n",
    "\n",
    "            \n",
    "            \n"
   ]
  },
  {
   "cell_type": "code",
   "execution_count": null,
   "metadata": {},
   "outputs": [],
   "source": []
  },
  {
   "cell_type": "code",
   "execution_count": null,
   "metadata": {},
   "outputs": [],
   "source": []
  },
  {
   "cell_type": "code",
   "execution_count": null,
   "metadata": {},
   "outputs": [],
   "source": []
  }
 ],
 "metadata": {
  "kernelspec": {
   "display_name": "Python 3",
   "language": "python",
   "name": "python3"
  },
  "language_info": {
   "codemirror_mode": {
    "name": "ipython",
    "version": 3
   },
   "file_extension": ".py",
   "mimetype": "text/x-python",
   "name": "python",
   "nbconvert_exporter": "python",
   "pygments_lexer": "ipython3",
   "version": "3.7.6"
  }
 },
 "nbformat": 4,
 "nbformat_minor": 2
}
