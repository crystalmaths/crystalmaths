{
 "cells": [
  {
   "cell_type": "code",
   "execution_count": 3,
   "metadata": {},
   "outputs": [],
   "source": [
    "import sys\n",
    "sys.path.append('..')\n",
    "import crystalmaths\n",
    "from crystalmaths.find_matching_angles import find_matching_angles\n",
    "import itertools\n",
    "import requests\n",
    "import numpy as np\n",
    "import pandas as pd\n",
    "import matplotlib\n",
    "%matplotlib qt\n",
    "# from crystalmaths import \n"
   ]
  },
  {
   "cell_type": "code",
   "execution_count": 4,
   "metadata": {},
   "outputs": [],
   "source": [
    "image_filepath = r'C:\\Users\\lacho\\OneDrive - UW\\crystalmaths\\Local_data\\SL_Bornite_011.png'\n",
    "\n",
    "image_object = crystalmaths.imagetools.ImageHandler(image_filepath=image_filepath, window_type = 'hanning')\n",
    "image_object.show_image()"
   ]
  },
  {
   "cell_type": "code",
   "execution_count": 6,
   "metadata": {},
   "outputs": [
    {
     "data": {
      "text/plain": [
       "10.0"
      ]
     },
     "execution_count": 6,
     "metadata": {},
     "output_type": "execute_result"
    }
   ],
   "source": [
    "image_object.image_array.shape\n",
    "\n",
    "image_object.get_scale_ratio(10.0)\n",
    "image_object.scale_ratio"
   ]
  },
  {
   "cell_type": "code",
   "execution_count": 7,
   "metadata": {},
   "outputs": [
    {
     "name": "stdout",
     "output_type": "stream",
     "text": [
      "Pick planes using left mouse button. Right click once done. Middle mouse button removes most recent point.\n",
      "Saved points =  [(239.05194805194805, 109.71103896103895), (250.7943722943723, 27.514069264069235)]\n",
      "Press keyboard button to save points, mouseclick to restart\n"
     ]
    }
   ],
   "source": [
    "image_object.get_planes()"
   ]
  },
  {
   "cell_type": "code",
   "execution_count": 8,
   "metadata": {},
   "outputs": [
    {
     "data": {
      "text/plain": [
       "[[84.0, -45.0], [95.0, -127.0]]"
      ]
     },
     "execution_count": 8,
     "metadata": {},
     "output_type": "execute_result"
    }
   ],
   "source": [
    "image_object.point_coordinates "
   ]
  },
  {
   "cell_type": "code",
   "execution_count": 9,
   "metadata": {},
   "outputs": [
    {
     "name": "stdout",
     "output_type": "stream",
     "text": [
      "http://rruff.geo.arizona.edu/AMS/result.php?diff=vals(3.2530808417728863,1.9546012201653793),opt(),type(d-spacing),tolerance(0.1)&mineral=Bornite\n",
      "3.2530808417728863 1.9546012201653793\n",
      "0.13368581827418294 0.16373102030909353\n",
      "0.13368581827418294 0.16373102030909353\n",
      "0.13368581827418294 0.16373102030909353\n",
      "0.13368581827418294 0.16373102030909353\n",
      "0.13975019652371384 0.16387163105331223\n",
      "0.13975019652371387 0.16387163105331223\n",
      "0.13975019652371384 0.16387163105331223\n",
      "0.13975019652371387 0.16387163105331223\n",
      "0.13948934693703188 0.16356575780023308\n",
      "0.13948934693703188 0.16356575780023308\n",
      "0.13948934693703188 0.16356575780023308\n",
      "0.13948934693703188 0.16356575780023308\n",
      "0.1326990579779133 0.15560343821333186\n",
      "0.15758013134877202 0.16273397093044953\n",
      "0.1326990579779133 0.16252249069694444\n",
      "0.14928644022515244 0.16997008922361195\n",
      "0.1326990579779133 0.15560343821333186\n",
      "0.1326990579779133 0.16252249069694444\n",
      "0.15758013134877202 0.16273397093044953\n",
      "0.14928644022515244 0.16997008922361195\n",
      "0.06689614784496456 0.15688112029896734\n",
      "0.0 0.15697415348547755\n",
      "0.13363366050301906 0.1637157050489896\n",
      "0.0 0.16381279126110646\n",
      "-7.931759345503053e-05 0.1638452173431774\n",
      "-0.1338716132833842 0.16394238035829894\n",
      "0.06689614784496456 0.15688112029896734\n",
      "0.133633660503019 0.1637157050489896\n",
      "-7.931759345505829e-05 0.1638452173431774\n",
      "0.0 0.15697415348547755\n",
      "0.0 0.16381279126110646\n",
      "-0.1338716132833842 0.16394238035829894\n",
      "0.1334417547590751 0.15649907236200555\n",
      "0.1335578281659059 0.156635142866143\n",
      "0.06683695078636832 0.156635142866143\n",
      "0.1334417547590751 0.15649907236200558\n",
      "0.06683695078636832 0.156635142866143\n",
      "0.1335578281659059 0.156635142866143\n",
      "0.06672087737953754 0.1566968915024217\n",
      "0.13378997497956746 0.1568331340034263\n",
      "0.13378997497956746 0.1568331340034263\n",
      "0.10008131606930631 0.1583953213089393\n",
      "0.11705171893126767 0.15853304053563008\n",
      "0.15041215762103646 0.15853304053563008\n",
      "0.1000813160693063 0.1583953213089393\n",
      "0.15041215762103644 0.15853304053563005\n",
      "0.11705171893126767 0.15853304053563005\n",
      "0.1334417547590751 0.16352685084703503\n",
      "0.13367390157273668 0.16366903176030775\n",
      "0.13367390157273668 0.16366903176030775\n",
      "0.1334417547590751 0.15649907236200555\n",
      "0.1334417547590751 0.15649907236200558\n",
      "0.06672087737953754 0.1566968915024217\n",
      "0.10008131606930631 0.1583953213089393\n",
      "0.10008131606930631 0.1583953213089393\n",
      "0.1334417547590751 0.16352685084703503\n",
      "0.1335578281659059 0.156635142866143\n",
      "0.06683695078636832 0.156635142866143\n",
      "0.13378997497956746 0.1568331340034263\n",
      "0.11705171893126767 0.15853304053563008\n",
      "0.15041215762103646 0.15853304053563005\n",
      "0.13367390157273668 0.16366903176030775\n",
      "0.06683695078636832 0.156635142866143\n",
      "0.1335578281659059 0.156635142866143\n",
      "0.13378997497956746 0.1568331340034263\n",
      "0.15041215762103646 0.15853304053563008\n",
      "0.11705171893126767 0.15853304053563005\n",
      "0.13367390157273668 0.16366903176030775\n"
     ]
    }
   ],
   "source": [
    "def get_zone_axis(image_object, d_spacing_tolerance, angle_tolerance, mineral = None):\n",
    "    \"\"\"\n",
    "    get_zone_axis will take one image_object which has had two planes\n",
    "    selected on it. The two points (e.g. d1, d2) will be passed as \n",
    "    arguments to get_d, which searches the ACMS online database to\n",
    "    generate a list of candidate minerals, based on the d-spacing \n",
    "    of the selected points from fft image.\n",
    "    \n",
    "    Tolerances for search criteria are also passed as float arguments into\n",
    "    this function to provide cutoffs for difference in d-spacing and in \n",
    "    angles. \n",
    "    \n",
    "    get_zone_axis returns a DataFrame with the HKL and mineral name \n",
    "    for all sets of matching planes\n",
    "    \"\"\"\n",
    "    angle_compare_list=[]\n",
    "    p1 = image_object.point_coordinates[0]\n",
    "    p2 = image_object.point_coordinates[1]\n",
    "    fft_angle = crystalmaths.angles_from_fft.angle(p1, p2)\n",
    "    d1 = crystalmaths.distance_from_fft.distance_from_fft(p1, image_object.scale_ratio, image_object.image_array.shape[0])\n",
    "    d2 = crystalmaths.distance_from_fft.distance_from_fft(p2, image_object.scale_ratio, image_object.image_array.shape[0])\n",
    "    link = crystalmaths.get_d.make_web_address(d1, d2, tolerance=d_spacing_tolerance, mineral = mineral)\n",
    "    print(link)\n",
    "    link_list = crystalmaths.get_d.compile_links(link)\n",
    "    query_results = crystalmaths.get_d.get_d(link_list, [d1, d2])\n",
    "    print(d1, d2)\n",
    "    for i,result in enumerate(query_results):\n",
    "        data_df = result[0]\n",
    "        metadata_df = result[1]\n",
    "        temp_object = crystalmaths.angles_from_structure_data.AllAnglePairs(data_df, metadata_df)\n",
    "        result_df = temp_object.result_df\n",
    "        result_df = find_matching_angles(fft_angle, result_df, angle_tolerance)\n",
    "        final_df = result_df[result_df['angle match']==True]\n",
    "#         df[df['Btu']>1500000]\n",
    "        if final_df.empty:\n",
    "            pass\n",
    "        else:\n",
    "            mineral_name = metadata_df['Mineral_Name'].values\n",
    "            n = final_df.shape[0]\n",
    "            mineral_name_list = [mineral_name for i in range(n)]\n",
    "            final_df.insert(0, 'Mineral_Name', mineral_name_list)\n",
    "            angle_compare_list.append((final_df, metadata_df))\n",
    "    return angle_compare_list\n",
    "\n",
    "awesome_list = get_zone_axis(image_object, 0.1, 10, 'Bornite')"
   ]
  },
  {
   "cell_type": "code",
   "execution_count": null,
   "metadata": {},
   "outputs": [],
   "source": []
  },
  {
   "cell_type": "code",
   "execution_count": null,
   "metadata": {},
   "outputs": [],
   "source": [
    "for thing in awesome_list:\n",
    "    print(thing[0])\n",
    "\n"
   ]
  },
  {
   "cell_type": "code",
   "execution_count": null,
   "metadata": {},
   "outputs": [],
   "source": []
  }
 ],
 "metadata": {
  "kernelspec": {
   "display_name": "Python 3",
   "language": "python",
   "name": "python3"
  },
  "language_info": {
   "codemirror_mode": {
    "name": "ipython",
    "version": 3
   },
   "file_extension": ".py",
   "mimetype": "text/x-python",
   "name": "python",
   "nbconvert_exporter": "python",
   "pygments_lexer": "ipython3",
   "version": "3.7.6"
  }
 },
 "nbformat": 4,
 "nbformat_minor": 2
}
