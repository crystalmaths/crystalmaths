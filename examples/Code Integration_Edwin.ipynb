{
 "cells": [
  {
   "cell_type": "code",
   "execution_count": 3,
   "metadata": {},
   "outputs": [],
   "source": [
    "import sys\n",
    "sys.path.append('..')\n",
    "import crystalmaths\n",
    "from crystalmaths.find_matching_angles import find_matching_angles\n",
    "import itertools\n",
    "import requests\n",
    "import numpy as np\n",
    "import pandas as pd\n",
    "import matplotlib\n",
    "%matplotlib qt\n",
    "# from crystalmaths import \n"
   ]
  },
  {
   "cell_type": "code",
   "execution_count": 4,
   "metadata": {},
   "outputs": [],
   "source": [
    "image_filepath = r'SL_Bornite_011.png'\n",
    "\n",
    "image_object = crystalmaths.imagetools.ImageHandler(image_filepath=image_filepath)\n",
    "image_object.show_image()"
   ]
  },
  {
   "cell_type": "code",
   "execution_count": 5,
   "metadata": {},
   "outputs": [
    {
     "name": "stdout",
     "output_type": "stream",
     "text": [
      "Enter scalebar length in nanometers.2\n",
      "length_nm =  2.0\n",
      "length_pixel = 20.96861471861473\n"
     ]
    },
    {
     "data": {
      "text/plain": [
       "10.484307359307365"
      ]
     },
     "execution_count": 5,
     "metadata": {},
     "output_type": "execute_result"
    }
   ],
   "source": [
    "image_object.image_array.shape\n",
    "\n",
    "image_object.get_scale_ratio()\n",
    "image_object.scale_ratio"
   ]
  },
  {
   "cell_type": "code",
   "execution_count": 6,
   "metadata": {},
   "outputs": [
    {
     "name": "stdout",
     "output_type": "stream",
     "text": [
      "Pick planes using left mouse button. Right click once done. Middle mouse button removes most recent point.\n",
      "Exited zoom loop\n",
      "Entered point pick loop\n",
      "Saved points =  [(240.72943722943722, 111.38852813852813), (252.47186147186147, 30.030303030303003)]\n",
      "Press keyboard button to save points, mouseclick to restart\n"
     ]
    }
   ],
   "source": [
    "image_object.get_planes()"
   ]
  },
  {
   "cell_type": "code",
   "execution_count": 7,
   "metadata": {},
   "outputs": [
    {
     "data": {
      "text/plain": [
       "[[85.0, -43.0], [97.0, -124.0]]"
      ]
     },
     "execution_count": 7,
     "metadata": {},
     "output_type": "execute_result"
    }
   ],
   "source": [
    "image_object.point_coordinates "
   ]
  },
  {
   "cell_type": "code",
   "execution_count": null,
   "metadata": {},
   "outputs": [],
   "source": [
    "def get_zone_axis(image_object, d_spacing_tolerance, angle_tolerance, mineral = None):\n",
    "    \"\"\"\n",
    "    get_zone_axis will take one image_object which has had two planes\n",
    "    selected on it. The two points (e.g. d1, d2) will be passed as \n",
    "    arguments to get_d, which searches the ACMS online database to\n",
    "    generate a list of candidate minerals, based on the d-spacing \n",
    "    of the selected points from fft image.\n",
    "    \n",
    "    Tolerances for search criteria are also passed as float arguments into\n",
    "    this function to provide cutoffs for difference in d-spacing and in \n",
    "    angles. \n",
    "    \n",
    "    get_zone_axis returns a DataFrame with the HKL and mineral name \n",
    "    for all sets of matching planes\n",
    "    \"\"\"\n",
    "    angle_compare_list=[]\n",
    "    p1 = image_object.point_coordinates[0]\n",
    "    p2 = image_object.point_coordinates[1]\n",
    "    fft_angle = crystalmaths.angles_from_fft.angle(p1, p2)\n",
    "    d1 = crystalmaths.distance_from_fft.distance_from_fft(p1, image_object.scale_ratio, image_object.image_array.shape[0])\n",
    "    d2 = crystalmaths.distance_from_fft.distance_from_fft(p2, image_object.scale_ratio, image_object.image_array.shape[0])\n",
    "    link = crystalmaths.get_d.make_web_address(d1, d2, tolerance=d_spacing_tolerance, mineral = mineral)\n",
    "    print(link)\n",
    "    link_list = crystalmaths.get_d.compile_links(link)\n",
    "    query_results = crystalmaths.get_d.get_d(link_list, [d1, d2])\n",
    "    print(d1, d2)\n",
    "    for i,result in enumerate(query_results):\n",
    "        data_df = result[0]\n",
    "        metadata_df = result[1]\n",
    "        temp_object = crystalmaths.angles_from_structure_data.AllAnglePairs(data_df, metadata_df)\n",
    "        result_df = temp_object.result_df\n",
    "        result_df = find_matching_angles(fft_angle, result_df, angle_tolerance)\n",
    "        final_df = result_df[result_df['angle match']==True]\n",
    "#         df[df['Btu']>1500000]\n",
    "        if final_df.empty:\n",
    "            pass\n",
    "        else:\n",
    "            mineral_name = metadata_df['Mineral_Name'].values\n",
    "            n = final_df.shape[0]\n",
    "            mineral_name_list = [mineral_name for i in range(n)]\n",
    "            final_df.insert(0, 'Mineral_Name', mineral_name_list)\n",
    "            angle_compare_list.append((final_df, metadata_df))\n",
    "    return angle_compare_list\n",
    "\n",
    "awesome_list = get_zone_axis(image_object, 0.1, 10, 'Bornite')"
   ]
  },
  {
   "cell_type": "code",
   "execution_count": null,
   "metadata": {},
   "outputs": [],
   "source": []
  },
  {
   "cell_type": "code",
   "execution_count": null,
   "metadata": {},
   "outputs": [],
   "source": [
    "for thing in awesome_list:\n",
    "    print(thing[0])\n",
    "\n"
   ]
  },
  {
   "cell_type": "code",
   "execution_count": null,
   "metadata": {},
   "outputs": [],
   "source": []
  }
 ],
 "metadata": {
  "kernelspec": {
   "display_name": "Python 3",
   "language": "python",
   "name": "python3"
  },
  "language_info": {
   "codemirror_mode": {
    "name": "ipython",
    "version": 3
   },
   "file_extension": ".py",
   "mimetype": "text/x-python",
   "name": "python",
   "nbconvert_exporter": "python",
   "pygments_lexer": "ipython3",
   "version": "3.7.4"
  }
 },
 "nbformat": 4,
 "nbformat_minor": 2
}
