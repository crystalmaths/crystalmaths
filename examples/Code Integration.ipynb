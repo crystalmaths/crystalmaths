{
 "cells": [
  {
   "cell_type": "code",
   "execution_count": null,
   "metadata": {},
   "outputs": [],
   "source": [
    "import sys\n",
    "sys.path.append('..')\n",
    "import crystalmaths\n",
    "import requests\n",
    "%matplotlib qt\n",
    "# from crystalmaths import "
   ]
  },
  {
   "cell_type": "code",
   "execution_count": null,
   "metadata": {},
   "outputs": [],
   "source": [
    "image_filepath = r'C:\\Users\\lacho\\OneDrive - UW\\crystalmaths\\Local_data\\Cubic_1.bmp'\n",
    "\n",
    "image_object = crystalmaths.imagetools.ImageHandler(image_filepath=image_filepath, window_type='hanning')"
   ]
  },
  {
   "cell_type": "code",
   "execution_count": null,
   "metadata": {},
   "outputs": [],
   "source": [
    "image_object.get_scale_ratio(100)\n",
    "image_object.scale_ratio"
   ]
  },
  {
   "cell_type": "code",
   "execution_count": null,
   "metadata": {},
   "outputs": [],
   "source": [
    "image_object.get_planes()"
   ]
  },
  {
   "cell_type": "code",
   "execution_count": null,
   "metadata": {},
   "outputs": [],
   "source": [
    "image_object.point_coordinates"
   ]
  },
  {
   "cell_type": "code",
   "execution_count": null,
   "metadata": {},
   "outputs": [],
   "source": [
    "#Attempting to shift origin by subtracting center value from points.\n",
    "\n",
    "p1, p2 = image_object.point_coordinates\n",
    "print(p1, p2, image_object.image_array.shape[0]/2)\n",
    "p1[0] = p1[0] - image_object.image_array.shape[0]/2\n",
    "p1[1] = p1[1] - image_object.image_array.shape[1]/2\n",
    "p2[0] = p2[0] - image_object.image_array.shape[0]/2\n",
    "p2[1] = p2[1] - image_object.image_array.shape[1]/2\n",
    "\n",
    "print(p1, p2)"
   ]
  },
  {
   "cell_type": "code",
   "execution_count": null,
   "metadata": {},
   "outputs": [],
   "source": [
    "fft_angle = crystalmaths.angles_from_fft.angle(p1,p2)\n",
    "fft_angle"
   ]
  },
  {
   "cell_type": "code",
   "execution_count": null,
   "metadata": {},
   "outputs": [],
   "source": [
    "d1 = crystalmaths.distance_from_fft.dis_cal(p1, image_object.scale_ratio)\n",
    "d2 = crystalmaths.distance_from_fft.dis_cal(p2, image_object.scale_ratio)\n",
    "\n",
    "print(d1, d2)"
   ]
  },
  {
   "cell_type": "code",
   "execution_count": 2,
   "metadata": {},
   "outputs": [
    {
     "name": "stdout",
     "output_type": "stream",
     "text": [
      "http://rruff.geo.arizona.edu/AMS/result.php?diff=vals(3.3,3.5),opt(),type(d-spacing),tolerance(0.001)\n"
     ]
    }
   ],
   "source": [
    "d1 = 3.3\n",
    "d2 = 3.5\n",
    "link = crystalmaths.get_d.make_web_address(d1, d2, tolerance=0.001)\n",
    "link_list = crystalmaths.get_d.compile_links(link)\n",
    "print(link)"
   ]
  },
  {
   "cell_type": "code",
   "execution_count": 3,
   "metadata": {},
   "outputs": [],
   "source": [
    "query_results = crystalmaths.get_d.get_d(link_list, [d1, d2])"
   ]
  },
  {
   "cell_type": "code",
   "execution_count": 4,
   "metadata": {},
   "outputs": [
    {
     "name": "stdout",
     "output_type": "stream",
     "text": [
      "    D-REF  D-SPACING    H    K    L\n",
      "23    3.3     3.3944  0.0  1.0  5.0\n",
      "24    3.3     3.3470 -1.0  1.0  5.0\n",
      "25    3.3     3.2995  2.0  1.0  2.0\n",
      "26    3.3     3.2508  2.0  0.0  4.0\n",
      "27    3.3     3.2005 -2.0  1.0  4.0\n",
      "20    3.5     3.5840 -2.0  1.0  2.0\n",
      "21    3.5     3.4994  2.0  1.0  1.0\n",
      "22    3.5     3.4312  1.0  1.0  4.0\n",
      "   D-REF  D-SPACING    H    K    L\n",
      "7    3.3     3.3005  5.0  1.0  1.0\n",
      "8    3.3     3.3005  3.0  3.0  3.0\n",
      "6    3.5     3.5007  4.0  2.0  2.0\n",
      "    D-REF  D-SPACING    H    K    L\n",
      "19    3.3     3.2991  2.0  0.0  2.0\n",
      "20    3.3     3.2531 -2.0  2.0  1.0\n",
      "21    3.3     3.2457  3.0  0.0  0.0\n",
      "17    3.5     3.5000 -1.0  1.0  3.0\n",
      "18    3.5     3.4381  0.0  1.0  3.0\n",
      "    D-REF  D-SPACING    H    K    L\n",
      "21    3.3     3.3662 -1.0  0.0  2.0\n",
      "22    3.3     3.3007  1.0  3.0  1.0\n",
      "23    3.3     3.2749  0.0  1.0  2.0\n",
      "24    3.3     3.2333  0.0  4.0  0.0\n",
      "18    3.5     3.5345 -2.0  2.0  1.0\n",
      "19    3.5     3.4992 -1.0  3.0  1.0\n",
      "20    3.5     3.4847  2.0  1.0  1.0\n",
      "    D-REF  D-SPACING    H    K    L\n",
      "17    3.3     3.3955  4.0  1.0  0.0\n",
      "18    3.3     3.2998  3.0  3.0  0.0\n",
      "14    3.5     3.5916  3.0  0.0  1.0\n",
      "15    3.5     3.5000  4.0  0.0  0.0\n",
      "16    3.5     3.4789  3.0  1.0  1.0\n"
     ]
    }
   ],
   "source": [
    "for i,result in enumerate(query_results):\n",
    "    metadata = result[1]\n",
    "    data = result[0]\n",
    "    test_df = data\n",
    "    print(data)\n",
    "    \n",
    "#Todo: look at your functions and check todo's\n",
    "#Continue code integration from here to pass these values into edwin's code. "
   ]
  },
  {
   "cell_type": "markdown",
   "metadata": {},
   "source": [
    "Future Work"
   ]
  }
 ],
 "metadata": {
  "kernelspec": {
   "display_name": "Python 3",
   "language": "python",
   "name": "python3"
  },
  "language_info": {
   "codemirror_mode": {
    "name": "ipython",
    "version": 3
   },
   "file_extension": ".py",
   "mimetype": "text/x-python",
   "name": "python",
   "nbconvert_exporter": "python",
   "pygments_lexer": "ipython3",
   "version": "3.7.3"
  }
 },
 "nbformat": 4,
 "nbformat_minor": 2
}
