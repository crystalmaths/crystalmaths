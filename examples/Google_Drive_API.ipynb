{
 "cells": [
  {
   "cell_type": "markdown",
   "metadata": {},
   "source": [
    "### This jupyter notebook has following functions:\n",
    "* Authorization with Google: <font color=blue>google_authorization</font>\n",
    "* Download file from Google: <font color=blue>file_download</font>\n",
    "* Image functions: <font color=blue>set_image_path</font>, <font color=blue>set_google_image</font>\n",
    "* Structure input function: <font color=blue>set_tructure</font> and its test: <font color=blue>test_set_tructure</font>\n",
    "* Compare angles: <font color=blue>find_matching_angles</font> and its test: <font color=blue>test_find_matching_angles</font>"
   ]
  },
  {
   "cell_type": "markdown",
   "metadata": {},
   "source": [
    "### Imports:"
   ]
  },
  {
   "cell_type": "code",
   "execution_count": null,
   "metadata": {},
   "outputs": [],
   "source": [
    "# Imports:\n",
    "import oauth2client\n",
    "from httplib2 import Http\n",
    "from apiclient import discovery\n",
    "from oauth2client import file, client, tools\n",
    "import io\n",
    "from googleapiclient.http import MediaIoBaseDownload\n",
    "import skimage\n",
    "import skimage.io as sio\n",
    "import matplotlib.pyplot as plt\n",
    "import os\n",
    "import numpy as np\n",
    "import math\n",
    "from scipy.spatial import distance  # For Eucl. Distance\n",
    "# %load_ext pycodestyle_magic\n",
    "# %pycodestyle_on\n",
    "# %flake8_on"
   ]
  },
  {
   "cell_type": "markdown",
   "metadata": {},
   "source": [
    "### Google Authorization:"
   ]
  },
  {
   "cell_type": "markdown",
   "metadata": {},
   "source": [
    "I used this [tutorial](https://medium.com/@umdfirecoml/a-step-by-step-guide-on-how-to-download-your-google-drive-data-to-your-jupyter-notebook-using-the-52f4ce63c66c) for reference "
   ]
  },
  {
   "cell_type": "markdown",
   "metadata": {},
   "source": [
    "* The function below accesses Google Drive to verify your credentials.\n",
    "* Once you run it, you should get a link, open this link in a web browser and load your Google credentials as requested.\n",
    "* Once ok, you will get a verification code, copy it and insert it in a window in this jupyter notebook."
   ]
  },
  {
   "cell_type": "markdown",
   "metadata": {},
   "source": [
    "This file below `client_id.json` has to be saved in the same folder as this Jupyter Notebook, otherwise looks like Authorization won't work. \\\n",
    "I will not upload it to GitHub, but I will share the file with you through Slack so we could test my code."
   ]
  },
  {
   "cell_type": "code",
   "execution_count": null,
   "metadata": {},
   "outputs": [],
   "source": [
    "# credentials=['/Users/elenashoushpanova/Desktop/DIRECT/Crystal_Math/client_id.json']"
   ]
  },
  {
   "cell_type": "code",
   "execution_count": null,
   "metadata": {},
   "outputs": [],
   "source": [
    "def google_authorization():\n",
    "    \"\"\"\n",
    "    This function accesses Google Drive to verify your credentials.\n",
    "    Once you run it, you should get a link, open this link in a web browser\n",
    "    and use your Google credentials as requested. Once your cridentials\n",
    "    accepted by Google, you will geta verification code.\n",
    "    Copy this code and insert it in a window as requested.\n",
    "    Once done, you are ready to access files in Google Drive.\n",
    "    \"\"\"\n",
    "\n",
    "    obj = lambda: None\n",
    "    lmao = {\"auth_host_name\": 'localhost', 'noauth_local_webserver':\n",
    "            'store_true', 'auth_host_port': [8080, 8090], 'logging_level':\n",
    "            'ERROR'}\n",
    "    for k, v in lmao.items():\n",
    "        setattr(obj, k, v)\n",
    "\n",
    "    # authorization boilerplate code\n",
    "    SCOPES = 'https://www.googleapis.com/auth/drive.readonly'\n",
    "    store = file.Storage('token.json')\n",
    "    # store = file.Storage('client_id.json')\n",
    "    creds = store.get()\n",
    "    # The following will give you a link if token.json does not exist, the link\n",
    "    # allows the user to give this app permission\n",
    "    if not creds or creds.invalid:\n",
    "        flow = client.flow_from_clientsecrets('client_id.json', SCOPES)\n",
    "        # flow = client.flow_from_clientsecrets(credentials, SCOPES)\n",
    "        creds = tools.run_flow(flow, store, obj)\n",
    "    return creds"
   ]
  },
  {
   "cell_type": "code",
   "execution_count": null,
   "metadata": {},
   "outputs": [],
   "source": [
    "# Example:\n",
    "google_authorization()"
   ]
  },
  {
   "cell_type": "markdown",
   "metadata": {},
   "source": [
    "### File download:"
   ]
  },
  {
   "cell_type": "markdown",
   "metadata": {},
   "source": [
    "* Now after Google \"knows\" you, try to download any file from Google Drive.\n",
    "* Before running the cell below, make sure the replace the `file_id` and `filename` fields to the **file_id** and **filename** that you are downloading\n",
    "* To get the file ID, go to the file in your Google Drive, right click to select **Get Shareable link**.\n",
    "* If you paste this link in the web browser URL bar, the file id is in the end of the address string: \".....id=<font color=red>file-id-is-here</font>\".\n",
    "* The file specified here right now is a pptx file from Google Drive, you can run it as it is or replace by other file."
   ]
  },
  {
   "cell_type": "code",
   "execution_count": null,
   "metadata": {},
   "outputs": [],
   "source": [
    "def file_download(google_shareable_link, output_filename, output_directory):\n",
    "    \"\"\"\n",
    "    This function downloads a file from Google Drive and stores it in a local\n",
    "    directory.\n",
    "    Inputs for the function are:\n",
    "    (1) \"Shareable link\" from Google Drive provided as a string.\n",
    "        Example: google_shareable_link =\n",
    "        'https://drive.google.com/open?id=1cFi0rOqN8bcJ7H5fpfPAGS5Rem7TtiII'\n",
    "        ***To get the link: go to the file in your Google Drive, right click,\n",
    "        select \"Get Shareable link\".\n",
    "    (2) Output file name including file extension provided as a string.\n",
    "        Example: output_filename = 'Hexagonal_18.bmp'\n",
    "    (3) Output Directory path provided as a string.\n",
    "        Example: output_directory = '/Users/elenashoushpanova/Desktop/'\n",
    "    Output for the function is a file path of saved file.\n",
    "        Example: dir_file = '/Users/elenashoushpanova/Desktop/Hexagonal_18.bmp'\n",
    "\n",
    "    Note: this function calls for a \"google_authorization\" function.\n",
    "    \"\"\"\n",
    "\n",
    "    # Call for a google authorization function to get Google Credentials.\n",
    "    # Will need a name change to \"crystalmath\":\n",
    "    creds = google_authorization()\n",
    "\n",
    "    # Define Google Drive as a source of file:\n",
    "    DRIVE = discovery.build('drive', 'v3', http=creds.authorize(Http()))\n",
    "\n",
    "    # Converts Google Shareable link that function got in Inpout into\n",
    "    # \"file id\":\n",
    "    loc = google_shareable_link.find('id=') + 3\n",
    "    file_id = google_shareable_link[loc:]\n",
    "\n",
    "    # Access a file:\n",
    "    request = DRIVE.files().get_media(fileId=file_id)\n",
    "\n",
    "    # Merging output directory and file name to get a local file path:\n",
    "    directory = os.path.dirname(output_directory)\n",
    "    image_path = os.path.join(directory, output_filename)\n",
    "\n",
    "    # Saving a file:\n",
    "    fh = io.FileIO(image_path, mode='w')\n",
    "    downloader = MediaIoBaseDownload(fh, request)\n",
    "    done = False\n",
    "    while done is False:\n",
    "        status, done = downloader.next_chunk()\n",
    "        print(\"Download %d%%.\" % int(status.progress() * 100))\n",
    "    return image_path"
   ]
  },
  {
   "cell_type": "code",
   "execution_count": null,
   "metadata": {},
   "outputs": [],
   "source": [
    "file_download('https://drive.google.com/open?id='\n",
    "              '1cFi0rOqN8bcJ7H5fpfPAGS5Rem7TtiII',\n",
    "              'Hexagonal_18.bmp',\n",
    "              '/Users/elenashoushpanova/Desktop/')"
   ]
  },
  {
   "cell_type": "markdown",
   "metadata": {},
   "source": [
    "### Show Image (from local directory):"
   ]
  },
  {
   "cell_type": "code",
   "execution_count": null,
   "metadata": {},
   "outputs": [],
   "source": [
    "def set_image_path(image_path):\n",
    "    \"\"\"\n",
    "    This function loads image from a local directory into a numpy array.\n",
    "    Input is an image file path.\n",
    "    Output is a numpy array of image pixel values, as well as shows the\n",
    "    image itself.\n",
    "    \"\"\"\n",
    "\n",
    "    image = sio.imread(image_path)\n",
    "    sio.imshow(image)\n",
    "    plt.axis('off')\n",
    "    return image"
   ]
  },
  {
   "cell_type": "code",
   "execution_count": null,
   "metadata": {},
   "outputs": [],
   "source": [
    "# Example:\n",
    "image_path = file_download('https://drive.google.com/open?id='\n",
    "                           '1cFi0rOqN8bcJ7H5fpfPAGS5Rem7TtiII',\n",
    "                           'Hexagonal_18.bmp',\n",
    "                           '/Users/elenashoushpanova/Desktop/')\n",
    "set_image_path(image_path)"
   ]
  },
  {
   "cell_type": "markdown",
   "metadata": {},
   "source": [
    "### Set image (download from Google Drive and Show):"
   ]
  },
  {
   "cell_type": "code",
   "execution_count": null,
   "metadata": {},
   "outputs": [],
   "source": [
    "def set_google_image(google_shareable_link, output_filename, output_directory):\n",
    "    \"\"\"\n",
    "    This function is similar to \"set_image_path\", but it downloads an image\n",
    "    from the Google Drive first and then loads the local copy into a numpy\n",
    "    array.\n",
    "    Inputs for the function are:\n",
    "    (1) \"Shareable link\" from Google Drive provided as a string.\n",
    "        Example: google_shareable_link =\n",
    "        'https://drive.google.com/open?id=1cFi0rOqN8bcJ7H5fpfPAGS5Rem7TtiII'\n",
    "        ***To get the link: go to the file in your Google Drive, right click,\n",
    "        select \"Get Shareable link\".\n",
    "    (2) Output file name including file extension provided as a string.\n",
    "        Example: output_filename = 'Hexagonal_18.bmp'\n",
    "    (3) Output Directory path provided as a string.\n",
    "        Example: output_directory = '/Users/elenashoushpanova/Desktop/'\n",
    "    Output is an array of image pixel values, image pixel resolution, as well\n",
    "    as the image itself.\n",
    "\n",
    "    Note: this function call for \"file_download\" and \"set_image_path\"\n",
    "    functions.\n",
    "    \"\"\"\n",
    "\n",
    "    # Call for a \"file_download\" function: ############ Will need a name change\n",
    "    # to \"crystalmath.\"\n",
    "    dir_file = file_download(google_shareable_link, output_filename,\n",
    "                             output_directory)\n",
    "\n",
    "    # Call for a \"show_image\" function: ############ Will need a name change\n",
    "    # to \"crystalmath\"\n",
    "    image = set_image_path(dir_file)\n",
    "    return image, image.shape"
   ]
  },
  {
   "cell_type": "code",
   "execution_count": null,
   "metadata": {},
   "outputs": [],
   "source": [
    "set_google_image('https://drive.google.com/open?id='\n",
    "                 '1cFi0rOqN8bcJ7H5fpfPAGS5Rem7TtiII',\n",
    "                 'Hexagonal_18.bmp', '/Users/elenashoushpanova/Desktop/')"
   ]
  },
  {
   "cell_type": "markdown",
   "metadata": {},
   "source": [
    "### Set crystal type:"
   ]
  },
  {
   "cell_type": "code",
   "execution_count": null,
   "metadata": {},
   "outputs": [],
   "source": [
    "def set_tructure(crystal_structure):\n",
    "    \"\"\"\n",
    "    This function is getting user's input for a crystal structure of his/her\n",
    "    TEM crystal.\n",
    "    Input: choose one of the following inputs: BCC, FCC, HCP.\n",
    "    Output: same as input but as variable.\n",
    "    \"\"\"\n",
    "\n",
    "    cs = crystal_structure\n",
    "    if cs == 'BCC' or cs == 'FCC' or cs == 'HCP':\n",
    "        # print('Thanks!')\n",
    "        cs\n",
    "    else:\n",
    "        print(\"Please set crystal structure according to one of the following:\"\n",
    "              \"BCC, FCC, or HCP\")\n",
    "    return cs"
   ]
  },
  {
   "cell_type": "code",
   "execution_count": null,
   "metadata": {
    "scrolled": true
   },
   "outputs": [],
   "source": [
    "set_tructure('HCP')"
   ]
  },
  {
   "cell_type": "markdown",
   "metadata": {},
   "source": [
    "### Test <font color=blue>set_tructure</font> function"
   ]
  },
  {
   "cell_type": "code",
   "execution_count": null,
   "metadata": {},
   "outputs": [],
   "source": [
    "def test_set_tructure():\n",
    "    structure = set_tructure('FCC')\n",
    "    assert type(structure) == str,\\\n",
    "        \"Please input a string for crystal structure name\""
   ]
  },
  {
   "cell_type": "code",
   "execution_count": null,
   "metadata": {},
   "outputs": [],
   "source": [
    "test_set_tructure()"
   ]
  },
  {
   "cell_type": "markdown",
   "metadata": {},
   "source": [
    "### Compare angles:"
   ]
  },
  {
   "cell_type": "markdown",
   "metadata": {},
   "source": [
    "### Try 1:\n",
    "This is not going to .py file"
   ]
  },
  {
   "cell_type": "code",
   "execution_count": null,
   "metadata": {},
   "outputs": [],
   "source": [
    "def compare_two_angles(angle_from_fft, angle_from_structure_data):\n",
    "    \"\"\"\n",
    "    This function compares angle obtained from FFT image (an output\n",
    "    from \"angles_from_fft\" function) and angle calculated from structural\n",
    "    data base (\"angles_from_structure_data\" function).\n",
    "    Input is a value of angles_from_fft and a value of\n",
    "    angles_from_structure_data, both in degrees.\n",
    "    Output is an absolute value of angle deduction, in degrees.\n",
    "    \"\"\"\n",
    "\n",
    "    # This commented are the options I was checking for angles comparison:\n",
    "    # ratio = angle_from_fft/angle_from_structure_data  # Ratio\n",
    "    # angle_difference = abs(1-ratio)*100  # percent difference\n",
    "    # angle_delta = abs(angle_from_fft-angle_from_structure_data)  # abs. delta\n",
    "\n",
    "    # For now I am using Euclidean Distance (formala is taken from:\n",
    "    # \"from scipy.spatial import distance\"):\n",
    "\n",
    "    angles_distance = distance.euclidean(angle_from_fft,\n",
    "                                         angle_from_structure_data)\n",
    "    # return round(angle_delta, 2)\n",
    "    return angles_distance"
   ]
  },
  {
   "cell_type": "code",
   "execution_count": null,
   "metadata": {},
   "outputs": [],
   "source": [
    "# Example:\n",
    "compare_two_angles(55, 57)"
   ]
  },
  {
   "cell_type": "code",
   "execution_count": null,
   "metadata": {},
   "outputs": [],
   "source": [
    "def compare_all_angles(all_angles_fft, all_angles_data):\n",
    "    \"\"\"\n",
    "    This function compares all angles obtained from FFT image (an output\n",
    "    from \"angles_from_fft\" function) to all angles calculated from structural\n",
    "    data base (an output from \"angles_from_structure_data\" function).\n",
    "    Inputs are (1) list of angles from FFT, (2) list of angles\n",
    "    from structural data base; all angles in degrees.\n",
    "    Output is a 2D nampy array: column [0] is value of angle from FFT,\n",
    "    and column [1] gives a list of delta from angles of structural data base.\n",
    "    \"\"\"\n",
    "\n",
    "    results_all = []\n",
    "    for angle_fft in all_angles_fft:\n",
    "        results = []\n",
    "        for angle_data in all_angles_data:\n",
    "            angle_delta = compare_two_angles(angle_fft, angle_data)\n",
    "            results = np.append(results, angle_delta)\n",
    "        results_all = np.append(results_all, [angle_fft, results.tolist()])\n",
    "    return np.reshape(results_all, (-1, 2))"
   ]
  },
  {
   "cell_type": "code",
   "execution_count": null,
   "metadata": {
    "scrolled": false
   },
   "outputs": [],
   "source": [
    "# Example:\n",
    "results = compare_all_angles([11, 29, 79], [10, 30, 50, 80])\n",
    "results"
   ]
  },
  {
   "cell_type": "code",
   "execution_count": null,
   "metadata": {},
   "outputs": [],
   "source": [
    "def find_closest_angle(all_angles_fft, all_angles_data):\n",
    "    \"\"\"\n",
    "    This function checks if at least same number of similar angles\n",
    "    exists in structural data base as in FFT image.\n",
    "    Inputs are (1) numpy arrays of angles from FFT, (2) numpy arrays of angles\n",
    "    from structural data base; all angles in degrees, (3) limit of how close\n",
    "    angles should be in order to be considered as matched.\n",
    "    Output: list of matching values within a limit.\n",
    "    \"\"\"\n",
    "\n",
    "    results = compare_all_angles(all_angles_fft, all_angles_data)\n",
    "    close_pairs = []\n",
    "    for i in range(0, len(results)):\n",
    "        potential_angles_list = results[i][1]\n",
    "        minloc = potential_angles_list.index(min(potential_angles_list))\n",
    "        close_pair = results[i][0], all_angles_data[minloc]\n",
    "        close_pair = list(close_pair)\n",
    "        close_pairs = close_pairs + [close_pair]\n",
    "    return close_pairs"
   ]
  },
  {
   "cell_type": "code",
   "execution_count": null,
   "metadata": {
    "scrolled": true
   },
   "outputs": [],
   "source": [
    "# Example:\n",
    "find_closest_angle([11, 29, 79], [10, 30, 50, 80])"
   ]
  },
  {
   "cell_type": "code",
   "execution_count": null,
   "metadata": {
    "scrolled": false
   },
   "outputs": [],
   "source": [
    "def find_matched_angle(all_angles_fft, all_angles_data, tolerance):\n",
    "    \"\"\"\n",
    "    This function defines whether within each pair angles are matched within\n",
    "    tolerance.\n",
    "    Input is a list of angle pairs (FFT vs. Data).\n",
    "    Output is Bullean\n",
    "    \"\"\"\n",
    "\n",
    "    check_all = []\n",
    "    close_pairs = find_closest_angle(all_angles_fft, all_angles_data)\n",
    "    for i in range(0, len(close_pairs)):\n",
    "        check = np.isclose(close_pairs[i][0], close_pairs[i][1],\n",
    "                           atol=tolerance)\n",
    "        check = [close_pairs[i]] + [check]\n",
    "        check_all = np.append(check_all, check)\n",
    "    return np.reshape(check_all, (-1, 2))"
   ]
  },
  {
   "cell_type": "code",
   "execution_count": null,
   "metadata": {},
   "outputs": [],
   "source": [
    "# Example:\n",
    "find_matched_angle([11, 29, 78], [10, 30, 50, 80], 1)"
   ]
  },
  {
   "cell_type": "markdown",
   "metadata": {},
   "source": [
    "### Try 2:\n",
    "both moved to .py files"
   ]
  },
  {
   "cell_type": "code",
   "execution_count": null,
   "metadata": {
    "scrolled": false
   },
   "outputs": [],
   "source": [
    "def find_matching_angles(all_angles_fft, all_angles_data, tolerance):\n",
    "    \"\"\"\n",
    "    This function finds matching angle pairs between a list of angles obtained\n",
    "    from FFT (usung \"angles_from_fft\" function) and a list of angles found\n",
    "    in structure data base (using \"angles_from_structure_data\" function).\n",
    "    Inputs are (1) list of angles from FFT, (2) list of angles from data base,\n",
    "    (3) value of tolerance to use.\n",
    "    Output is a list of matching angle pairs.\n",
    "    \"\"\"\n",
    "\n",
    "    matching_angles = []\n",
    "    for angle_fft in all_angles_fft:\n",
    "        for angle_data in all_angles_data:\n",
    "            # check = np.isclose(angle_fft, angle_data, atol=tolerance)\n",
    "            if np.isclose(angle_fft, angle_data, atol=tolerance) == 1:\n",
    "                close_pair = [angle_fft, angle_data]\n",
    "                matching_angles.append(close_pair)\n",
    "            else:\n",
    "                pass\n",
    "    return matching_angles"
   ]
  },
  {
   "cell_type": "code",
   "execution_count": null,
   "metadata": {},
   "outputs": [],
   "source": [
    "# Example:\n",
    "matching_angles = find_matching_angles([11, 29, 52], [10, 30, 50, 80], 1)\n",
    "matching_angles"
   ]
  },
  {
   "cell_type": "code",
   "execution_count": null,
   "metadata": {},
   "outputs": [],
   "source": [
    "def test_find_matching_angles():\n",
    "    all_angles_fft = [11, 29, 78]\n",
    "    all_angles_data = [10, 30, 50, 80]\n",
    "    tolerance = 1\n",
    "    matching_angles = find_matching_angles(all_angles_fft, all_angles_data,\n",
    "                                           tolerance)\n",
    "    for i in range(0, len(matching_angles)):\n",
    "        assert abs(matching_angles[i][0] - matching_angles[i][1]) <=\\\n",
    "            tolerance, \"Wrong pair of angles\""
   ]
  },
  {
   "cell_type": "code",
   "execution_count": null,
   "metadata": {},
   "outputs": [],
   "source": [
    "test_find_matching_angles()"
   ]
  },
  {
   "cell_type": "markdown",
   "metadata": {},
   "source": [
    "## Code Integration"
   ]
  },
  {
   "cell_type": "code",
   "execution_count": null,
   "metadata": {},
   "outputs": [],
   "source": [
    "import sys\n",
    "sys.path.append('..')\n",
    "import crystalmaths\n",
    "from crystalmaths.find_matching_angles import find_matching_angles\n",
    "import itertools\n",
    "import requests\n",
    "import numpy as np\n",
    "import pandas as pd\n",
    "%matplotlib qt\n",
    "# from crystalmaths import "
   ]
  },
  {
   "cell_type": "code",
   "execution_count": null,
   "metadata": {},
   "outputs": [],
   "source": [
    "d1 = 3.3\n",
    "d2 = 3.5\n",
    "link = crystalmaths.get_d.make_web_address(d1, d2, tolerance=0.001)\n",
    "link_list = crystalmaths.get_d.compile_links(link)\n",
    "print(link)"
   ]
  },
  {
   "cell_type": "code",
   "execution_count": null,
   "metadata": {},
   "outputs": [],
   "source": [
    "query_results = crystalmaths.get_d.get_d(link_list, [d1, d2])"
   ]
  },
  {
   "cell_type": "code",
   "execution_count": null,
   "metadata": {},
   "outputs": [],
   "source": [
    "for i,result in enumerate(query_results):\n",
    "    data_df = result[0]\n",
    "    metadata_df = result[1]\n",
    "    temp_object = crystalmaths.angles_from_structure_data.AllAnglePairs(data_df, metadata_df)\n",
    "temp_object.result_df"
   ]
  },
  {
   "cell_type": "code",
   "execution_count": null,
   "metadata": {
    "scrolled": true
   },
   "outputs": [],
   "source": [
    "fake_angle = [temp_object.result_df['angle'].mean()]\n",
    "result_df = temp_object.result_df\n",
    "result_df = find_matching_angles(fake_angle, result_df, 2)\n",
    "result_df"
   ]
  },
  {
   "cell_type": "markdown",
   "metadata": {},
   "source": [
    "### Edited Find Matching angles function and test:"
   ]
  },
  {
   "cell_type": "code",
   "execution_count": 2,
   "metadata": {},
   "outputs": [],
   "source": [
    "def find_matching_angle(angle_fft, result_df, tolerance):\n",
    "    \"\"\"\n",
    "    This function finds matching angle pairs between an angle obtained\n",
    "    from FFT (usung \"angles_from_fft\" function) and a list of angles found\n",
    "    in structure data base (using \"angles_from_structure_data\" function).\n",
    "    Inputs are (1) a value of angle from FFT, (2) Pandas DataFrame that\n",
    "    has angles from structure data (obtained using AllAnglePairs class),\n",
    "    (3) a value of tolerance to use.\n",
    "    Output is a list of matching angle pairs.\n",
    "    \"\"\"\n",
    "    dummy_array = np.ones(result_df.shape[0])\n",
    "    dummy_array *= angle_fft\n",
    "    result_df['angle-fft'] = dummy_array\n",
    "    check_list = []\n",
    "    cross_product_list = []\n",
    "    for i, row in result_df.iterrows():\n",
    "        angle_data = row['angle']\n",
    "        if np.isclose(angle_fft, angle_data, atol=tolerance) == 1:\n",
    "            check_list.append(True)\n",
    "            plane1 = np.array([row['H1'], row['K1'], row['L1']])\n",
    "            plane2 = np.array([row['H2'], row['K2'], row['L2']])\n",
    "            cross_product_list.append(np.cross(plane1, plane2))\n",
    "        else:\n",
    "            check_list.append(False)\n",
    "            cross_product_list.append(None)\n",
    "    result_df['angle match'] = check_list\n",
    "    result_df['zone axis'] = cross_product_list\n",
    "    return result_df"
   ]
  },
  {
   "cell_type": "code",
   "execution_count": null,
   "metadata": {},
   "outputs": [],
   "source": [
    "for i,result in enumerate(query_results):\n",
    "    data_df = result[0]\n",
    "    metadata_df = result[1]\n",
    "    temp_object = crystalmaths.angles_from_structure_data.AllAnglePairs(data_df, metadata_df)\n",
    "temp_object.result_df"
   ]
  },
  {
   "cell_type": "code",
   "execution_count": null,
   "metadata": {},
   "outputs": [],
   "source": [
    "# Example:\n",
    "fake_angle = [temp_object.result_df['angle'].mean()]\n",
    "result_df = temp_object.result_df\n",
    "result_df = find_matching_angle(fake_angle, result_df, 2)\n",
    "result_df"
   ]
  },
  {
   "cell_type": "code",
   "execution_count": 3,
   "metadata": {},
   "outputs": [],
   "source": [
    "%load_ext pycodestyle_magic\n",
    "#%pycodestyle_on\n",
    "%flake8_on"
   ]
  },
  {
   "cell_type": "code",
   "execution_count": null,
   "metadata": {},
   "outputs": [],
   "source": [
    "import crystalmaths.find_matching_angles"
   ]
  },
  {
   "cell_type": "code",
   "execution_count": 24,
   "metadata": {},
   "outputs": [],
   "source": [
    "def test_find_matching_angles():\n",
    "    \"\"\"\n",
    "    This is a test function for \"find_matching_angles\" function.\n",
    "    \"\"\"\n",
    "\n",
    "    # Creating a \"fake\" angle from FFT:\n",
    "    angle_fft = 35\n",
    "\n",
    "    # Creating a \"fake\" data table to simulate results from\n",
    "    # \"AllAnglePairs\", which has angles ffrom structure data base and\n",
    "    # corresponding pairs of HKL planes:\n",
    "    H1 = np.array([1, 1, 1])\n",
    "    K1 = np.array([0, 1, 1])\n",
    "    L1 = np.array([0, 0, 1])\n",
    "    H2 = np.array([1, 1, 1])\n",
    "    K2 = np.array([1, 1, 0])\n",
    "    L2 = np.array([0, 1, 0])\n",
    "    angles = np.array([45, 35.264, 54.736])\n",
    "    angles_sd_df = pd.DataFrame()\n",
    "    angles_sd_df['H1'] = H1\n",
    "    angles_sd_df['K1'] = K1\n",
    "    angles_sd_df['L1'] = L1\n",
    "    angles_sd_df['H2'] = H2\n",
    "    angles_sd_df['K2'] = K2\n",
    "    angles_sd_df['L2'] = L2\n",
    "    angles_sd_df['angle'] = angles\n",
    "\n",
    "    # Specifying tolerance:\n",
    "    tolerance = 1\n",
    "\n",
    "    # Calling for a function\n",
    "    final_results = find_matching_angles(angle_fft, angles_sd_df,\n",
    "                                         tolerance)\n",
    "\n",
    "    for i in range(0, final_results.shape[0]):\n",
    "        if abs(final_results['angle'][i] -\n",
    "               final_results['angle-fft'][i]) <= tolerance:\n",
    "            assert final_results['angle match'][i] == 1, \"Wrong matching\"\n",
    "        else:\n",
    "            assert final_results['angle match'][i] == 0, \"Wrong matching\""
   ]
  },
  {
   "cell_type": "code",
   "execution_count": 25,
   "metadata": {},
   "outputs": [],
   "source": [
    "test_find_matching_angles()"
   ]
  },
  {
   "cell_type": "code",
   "execution_count": null,
   "metadata": {},
   "outputs": [],
   "source": []
  }
 ],
 "metadata": {
  "kernelspec": {
   "display_name": "Python 3",
   "language": "python",
   "name": "python3"
  },
  "language_info": {
   "codemirror_mode": {
    "name": "ipython",
    "version": 3
   },
   "file_extension": ".py",
   "mimetype": "text/x-python",
   "name": "python",
   "nbconvert_exporter": "python",
   "pygments_lexer": "ipython3",
   "version": "3.7.4"
  }
 },
 "nbformat": 4,
 "nbformat_minor": 2
}
