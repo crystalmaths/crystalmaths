{
 "cells": [
  {
   "cell_type": "markdown",
   "metadata": {},
   "source": [
    "### This jupyter notebook has 3 functions:\n",
    "    1) Authorization with Google\n",
    "    2) Image/file download\n",
    "    3) Show image"
   ]
  },
  {
   "cell_type": "markdown",
   "metadata": {},
   "source": [
    "### Imports:"
   ]
  },
  {
   "cell_type": "code",
   "execution_count": 1,
   "metadata": {},
   "outputs": [],
   "source": [
    "from apiclient import discovery\n",
    "from httplib2 import Http\n",
    "import oauth2client\n",
    "from oauth2client import file, client, tools\n",
    "import io\n",
    "from googleapiclient.http import MediaIoBaseDownload\n",
    "import skimage\n",
    "import skimage.io as sio\n",
    "import matplotlib.pyplot as plt\n",
    "import os\n",
    "import numpy as np\n",
    "import math\n",
    "from scipy.spatial import distance  # For Eucl. Distance\n",
    "#%load_ext pycodestyle_magic\n",
    "#%pycodestyle_on"
   ]
  },
  {
   "cell_type": "markdown",
   "metadata": {},
   "source": [
    "### Google Authorization:"
   ]
  },
  {
   "cell_type": "markdown",
   "metadata": {},
   "source": [
    "I used this [tutorial](https://medium.com/@umdfirecoml/a-step-by-step-guide-on-how-to-download-your-google-drive-data-to-your-jupyter-notebook-using-the-52f4ce63c66c) for reference "
   ]
  },
  {
   "cell_type": "markdown",
   "metadata": {},
   "source": [
    "* The function below accesses Google Drive to verify your credentials.\n",
    "* Once you run it, you should get a link, open this link in a web browser and load your Google credentials as requested.\n",
    "* Once ok, you will get a verification code, copy it and insert it in a window in this jupyter notebook."
   ]
  },
  {
   "cell_type": "markdown",
   "metadata": {},
   "source": [
    "This file below `client_id.json` has to be saved in the same folder as this Jupyter Notebook, otherwise looks like Authorization won't work. \\\n",
    "I will not upload it to GitHub, but I will share the file with you through Slack so we could test my code."
   ]
  },
  {
   "cell_type": "code",
   "execution_count": null,
   "metadata": {},
   "outputs": [],
   "source": [
    "# credentials=['/Users/elenashoushpanova/Desktop/DIRECT/Crystal_Math/client_id.json']"
   ]
  },
  {
   "cell_type": "code",
   "execution_count": null,
   "metadata": {},
   "outputs": [],
   "source": [
    "def google_authorization():\n",
    "    \"\"\"\n",
    "    This function accesses Google Drive to verify your credentials.\n",
    "    Once you run it, you should get a link, open this link in a web browser\n",
    "    and use your Google credentials as requested. Once your cridentials\n",
    "    accepted by Google, you will geta verification code.\n",
    "    Copy this code and insert it in a window as requested.\n",
    "    Once done, you are ready to access files in Google Drive.\n",
    "    \"\"\"\n",
    "\n",
    "    from apiclient import discovery\n",
    "    from httplib2 import Http\n",
    "    import oauth2client\n",
    "    from oauth2client import file, client, tools\n",
    "\n",
    "    obj = lambda: None\n",
    "    lmao = {\"auth_host_name\":'localhost', 'noauth_local_webserver':'store_true',\n",
    "            'auth_host_port':[8080, 8090], 'logging_level':'ERROR'}\n",
    "    for k, v in lmao.items():\n",
    "        setattr(obj, k, v)\n",
    "\n",
    "    # authorization boilerplate code\n",
    "    SCOPES = 'https://www.googleapis.com/auth/drive.readonly'\n",
    "    store = file.Storage('token.json')\n",
    "    # store = file.Storage('client_id.json')\n",
    "    creds = store.get()\n",
    "    # The following will give you a link if token.json does not exist, the link\n",
    "    # allows the user to give this app permission\n",
    "    if not creds or creds.invalid:\n",
    "        flow = client.flow_from_clientsecrets('client_id.json', SCOPES)\n",
    "        #flow = client.flow_from_clientsecrets(credentials, SCOPES)\n",
    "        creds = tools.run_flow(flow, store, obj)\n",
    "    return creds"
   ]
  },
  {
   "cell_type": "code",
   "execution_count": null,
   "metadata": {},
   "outputs": [],
   "source": [
    "google_authorization()"
   ]
  },
  {
   "cell_type": "markdown",
   "metadata": {},
   "source": [
    "### File download:"
   ]
  },
  {
   "cell_type": "markdown",
   "metadata": {},
   "source": [
    "* Now after Google \"knows\" you, try to download any file from Google Drive.\n",
    "* Before running the cell below, make sure the replace the `file_id` and `filename` fields to the **file_id** and **filename** that you are downloading\n",
    "* To get the file ID, go to the file in your Google Drive, right click to select **Get Shareable link**.\n",
    "* If you paste this link in the web browser URL bar, the file id is in the end of the address string: \".....id=<font color=red>file-id-is-here</font>\".\n",
    "* The file specified here right now is a pptx file from Google Drive, you can run it as it is or replace by other file."
   ]
  },
  {
   "cell_type": "code",
   "execution_count": null,
   "metadata": {},
   "outputs": [],
   "source": [
    "def file_download(google_shareable_link, output_filename, output_directory):\n",
    "    \"\"\"\n",
    "    This function downloads a file from Google Drive and stores it in a local\n",
    "    directory.\n",
    "    Inputs for the function are:\n",
    "    (1) \"Shareable link\" from Google Drive provided as a string.\n",
    "        Example: google_shareable_link =\n",
    "        'https://drive.google.com/open?id=1cFi0rOqN8bcJ7H5fpfPAGS5Rem7TtiII'\n",
    "        ***To get the link: go to the file in your Google Drive, right click,\n",
    "        select \"Get Shareable link\".\n",
    "    (2) Output file name including file extension provided as a string.\n",
    "        Example: output_filename = 'Hexagonal_18.bmp'\n",
    "    (3) Output Directory path provided as a string.\n",
    "        Example: output_directory = '/Users/elenashoushpanova/Desktop/'\n",
    "    Output for the function is a file path of saved file.\n",
    "        Example: dir_file = '/Users/elenashoushpanova/Desktop/Hexagonal_18.bmp'\n",
    "\n",
    "    Note: this function calls for a \"google_authorization\" function.\n",
    "    \"\"\"\n",
    "\n",
    "    # Call for a google authorization function to get Google Credentials.\n",
    "    # Will need a name change to \"crystalmath\":\n",
    "    creds = google_authorization()\n",
    "\n",
    "    # Define Google Drive as a source of file:\n",
    "    DRIVE = discovery.build('drive', 'v3', http=creds.authorize(Http()))\n",
    "\n",
    "    # Converts Google Shareable link that function got in Inpout into\n",
    "    # \"file id\":\n",
    "    loc = google_shareable_link.find('id=') + 3\n",
    "    file_id = google_shareable_link[loc:]\n",
    "\n",
    "    # Access a file:\n",
    "    request = DRIVE.files().get_media(fileId=file_id)\n",
    "\n",
    "    # Merging output directory and file name to get a local file path:\n",
    "    directory = os.path.dirname(output_directory)\n",
    "    image_path = os.path.join(directory, output_filename)\n",
    "    \n",
    "    # Saving a file:\n",
    "    fh = io.FileIO(image_path, mode='w')\n",
    "    downloader = MediaIoBaseDownload(fh, request)\n",
    "    done = False\n",
    "    while done is False:\n",
    "        status, done = downloader.next_chunk()\n",
    "        print(\"Download %d%%.\" % int(status.progress() * 100))\n",
    "    return image_path"
   ]
  },
  {
   "cell_type": "code",
   "execution_count": null,
   "metadata": {},
   "outputs": [],
   "source": [
    "file_download('https://drive.google.com/open?id='\n",
    "              '1cFi0rOqN8bcJ7H5fpfPAGS5Rem7TtiII', 'Hexagonal_18.bmp',\n",
    "              '/Users/elenashoushpanova/Desktop/')"
   ]
  },
  {
   "cell_type": "markdown",
   "metadata": {},
   "source": [
    "### Show Image (from local directory):"
   ]
  },
  {
   "cell_type": "code",
   "execution_count": null,
   "metadata": {},
   "outputs": [],
   "source": [
    "def set_image_path(image_path):\n",
    "    \"\"\"\n",
    "    This function loads image from a local directory into a numpy array.\n",
    "    Input is an image file path.\n",
    "    Output is a numpy array of image pixel values, as well as shows the\n",
    "    image itself.\n",
    "    \"\"\"\n",
    "\n",
    "    image = sio.imread(image_path)\n",
    "    sio.imshow(image)\n",
    "    plt.axis('off')\n",
    "    return image"
   ]
  },
  {
   "cell_type": "code",
   "execution_count": null,
   "metadata": {},
   "outputs": [],
   "source": [
    "image_path = file_download('https://drive.google.com/open?id='\n",
    "                           '1cFi0rOqN8bcJ7H5fpfPAGS5Rem7TtiII',\n",
    "                           'Hexagonal_18.bmp',\n",
    "                           '/Users/elenashoushpanova/Desktop/')\n",
    "set_image_path(image_path)"
   ]
  },
  {
   "cell_type": "markdown",
   "metadata": {},
   "source": [
    "### Set image (download from Google Drive and Show):"
   ]
  },
  {
   "cell_type": "code",
   "execution_count": null,
   "metadata": {},
   "outputs": [],
   "source": [
    "def set_google_image(google_shareable_link, output_filename, output_directory):\n",
    "    \"\"\"\n",
    "    This function is similar to \"set_image_path\", but it downloads an image\n",
    "    from the Google Drive first and then loads the local copy into a numpy\n",
    "    array.\n",
    "    Inputs for the function are:\n",
    "    (1) \"Shareable link\" from Google Drive provided as a string.\n",
    "        Example: google_shareable_link =\n",
    "        'https://drive.google.com/open?id=1cFi0rOqN8bcJ7H5fpfPAGS5Rem7TtiII'\n",
    "        ***To get the link: go to the file in your Google Drive, right click,\n",
    "        select \"Get Shareable link\".\n",
    "    (2) Output file name including file extension provided as a string.\n",
    "        Example: output_filename = 'Hexagonal_18.bmp'\n",
    "    (3) Output Directory path provided as a string.\n",
    "        Example: output_directory = '/Users/elenashoushpanova/Desktop/'\n",
    "    Output is an array of image pixel values, image pixel resolution, as well\n",
    "    as the image itself.\n",
    "\n",
    "    Note: this function call for \"file_download\" and \"set_image_path\"\n",
    "    functions.\n",
    "    \"\"\"\n",
    "\n",
    "    # Call for a \"file_download\" function: ############ Will need a name change\n",
    "    # to \"crystalmath.\"\n",
    "    dir_file = file_download(google_shareable_link, output_filename,\n",
    "                             output_directory)\n",
    "\n",
    "    # Call for a \"show_image\" function: ############ Will need a name change\n",
    "    # to \"crystalmath\"\n",
    "    image = set_image_path(dir_file)\n",
    "    return image, image.shape"
   ]
  },
  {
   "cell_type": "code",
   "execution_count": null,
   "metadata": {},
   "outputs": [],
   "source": [
    "set_google_image('https://drive.google.com/open?id='\n",
    "                 '1cFi0rOqN8bcJ7H5fpfPAGS5Rem7TtiII',\n",
    "                 'Hexagonal_18.bmp', '/Users/elenashoushpanova/Desktop/')"
   ]
  },
  {
   "cell_type": "markdown",
   "metadata": {},
   "source": [
    "### Set crystal type:"
   ]
  },
  {
   "cell_type": "code",
   "execution_count": null,
   "metadata": {},
   "outputs": [],
   "source": [
    "def set_tructure(crystal_structure):\n",
    "    \"\"\"\n",
    "    This function is getting user's input for a crystal structure of his/her\n",
    "    TEM crystal.\n",
    "    Input: choose one of the following inputs: BCC, FCC, HCP.\n",
    "    Output: same as input but as variable.\n",
    "    \"\"\"\n",
    "\n",
    "    cs = crystal_structure\n",
    "    if cs == 'BCC' or cs == 'FCC' or cs == 'HCP':\n",
    "        print('Thanks!')\n",
    "    else:\n",
    "        print(\"Please set crystal structure according to one of the following:\"\n",
    "              \"BCC, FCC, or HCP\")\n",
    "    return cs"
   ]
  },
  {
   "cell_type": "code",
   "execution_count": null,
   "metadata": {
    "scrolled": true
   },
   "outputs": [],
   "source": [
    "set_tructure('HCP')"
   ]
  },
  {
   "cell_type": "markdown",
   "metadata": {},
   "source": [
    "### Test <font color=blue>set_tructure</font> function"
   ]
  },
  {
   "cell_type": "code",
   "execution_count": null,
   "metadata": {},
   "outputs": [],
   "source": [
    "def test_set_tructure():\n",
    "    structure = set_tructure('FCC')\n",
    "    assert type(structure) == str,\\\n",
    "        \"Please input a string for crystal structure name\""
   ]
  },
  {
   "cell_type": "markdown",
   "metadata": {},
   "source": [
    "### Compare angles:"
   ]
  },
  {
   "cell_type": "markdown",
   "metadata": {},
   "source": [
    "### Try 1:"
   ]
  },
  {
   "cell_type": "code",
   "execution_count": null,
   "metadata": {},
   "outputs": [],
   "source": [
    "def compare_two_angles(angle_from_fft, angle_from_structure_data):\n",
    "    \"\"\"\n",
    "    This function compares angle obtained from FFT image (an output\n",
    "    from \"angles_from_fft\" function) and angle calculated from structural\n",
    "    data base (\"angles_from_structure_data\" function).\n",
    "    Input is a value of angles_from_fft and a value of\n",
    "    angles_from_structure_data, both in degrees.\n",
    "    Output is an absolute value of angle deduction, in degrees.\n",
    "    \"\"\"\n",
    "\n",
    "    # This commented are the options I was checking for angles comparison:\n",
    "    # ratio = angle_from_fft/angle_from_structure_data  # Ratio\n",
    "    # angle_difference = abs(1-ratio)*100  # percent difference\n",
    "    # angle_delta = abs(angle_from_fft-angle_from_structure_data)  # abs. delta\n",
    "\n",
    "    # For now I am using Euclidean Distance (formala is taken from:\n",
    "    # \"from scipy.spatial import distance\"):\n",
    "\n",
    "    angles_distance = distance.euclidean(angle_from_fft,\n",
    "                                         angle_from_structure_data)\n",
    "    # return round(angle_delta, 2)\n",
    "    return angles_distance"
   ]
  },
  {
   "cell_type": "code",
   "execution_count": null,
   "metadata": {},
   "outputs": [],
   "source": [
    "# Example:\n",
    "compare_two_angles(55, 57)"
   ]
  },
  {
   "cell_type": "code",
   "execution_count": null,
   "metadata": {},
   "outputs": [],
   "source": [
    "def compare_all_angles(all_angles_fft, all_angles_data):\n",
    "    \"\"\"\n",
    "    This function compares all angles obtained from FFT image (an output\n",
    "    from \"angles_from_fft\" function) to all angles calculated from structural\n",
    "    data base (an output from \"angles_from_structure_data\" function).\n",
    "    Inputs are (1) list of angles from FFT, (2) list of angles\n",
    "    from structural data base; all angles in degrees.\n",
    "    Output is a 2D nampy array: column [0] is value of angle from FFT,\n",
    "    and column [1] gives a list of delta from angles of structural data base.\n",
    "    \"\"\"\n",
    "\n",
    "    results_all = []\n",
    "    for angle_fft in all_angles_fft:\n",
    "        results = []\n",
    "        for angle_data in all_angles_data:\n",
    "            angle_delta = compare_two_angles(angle_fft, angle_data)\n",
    "            results = np.append(results, angle_delta)\n",
    "        results_all = np.append(results_all, [angle_fft, results.tolist()])\n",
    "    return np.reshape(results_all, (-1, 2))"
   ]
  },
  {
   "cell_type": "code",
   "execution_count": null,
   "metadata": {
    "scrolled": false
   },
   "outputs": [],
   "source": [
    "# Example:\n",
    "results = compare_all_angles([11, 29, 79], [10, 30, 50, 80])\n",
    "results"
   ]
  },
  {
   "cell_type": "code",
   "execution_count": null,
   "metadata": {},
   "outputs": [],
   "source": [
    "def find_closest_angle(all_angles_fft, all_angles_data):\n",
    "    \"\"\"\n",
    "    This function checks if at least same number of similar angles\n",
    "    exists in structural data base as in FFT image.\n",
    "    Inputs are (1) numpy arrays of angles from FFT, (2) numpy arrays of angles\n",
    "    from structural data base; all angles in degrees, (3) limit of how close\n",
    "    angles should be in order to be considered as matched.\n",
    "    Output: list of matching values within a limit.\n",
    "    \"\"\"\n",
    "\n",
    "    results = compare_all_angles(all_angles_fft, all_angles_data)\n",
    "    close_pairs = []\n",
    "    for i in range(0, len(results)):\n",
    "        potential_angles_list = results[i][1]\n",
    "        minloc = potential_angles_list.index(min(potential_angles_list))\n",
    "        close_pair = results[i][0], all_angles_data[minloc]\n",
    "        close_pair = list(close_pair)\n",
    "        close_pairs = close_pairs + [close_pair]\n",
    "    return close_pairs"
   ]
  },
  {
   "cell_type": "code",
   "execution_count": null,
   "metadata": {
    "scrolled": true
   },
   "outputs": [],
   "source": [
    "# Example:\n",
    "find_closest_angle([11, 29, 79], [10, 30, 50, 80])"
   ]
  },
  {
   "cell_type": "code",
   "execution_count": null,
   "metadata": {
    "scrolled": false
   },
   "outputs": [],
   "source": [
    "def find_matched_angle(all_angles_fft, all_angles_data, tolerance):\n",
    "    \"\"\"\n",
    "    This function defines whether within each pair angles are matched within\n",
    "    tolerance.\n",
    "    Input is a list of angle pairs (FFT vs. Data).\n",
    "    Output is Bullean\n",
    "    \"\"\"\n",
    "\n",
    "    check_all = []\n",
    "    close_pairs = find_closest_angle(all_angles_fft, all_angles_data)\n",
    "    for i in range(0, len(close_pairs)):\n",
    "        check = np.isclose(close_pairs[i][0], close_pairs[i][1],\n",
    "                           atol=tolerance)\n",
    "        check = [close_pairs[i]] + [check]\n",
    "        check_all = np.append(check_all, check)\n",
    "    return np.reshape(check_all, (-1, 2))"
   ]
  },
  {
   "cell_type": "code",
   "execution_count": null,
   "metadata": {},
   "outputs": [],
   "source": [
    "# Example:\n",
    "find_matched_angle([11, 29, 78], [10, 30, 50, 80], 1)"
   ]
  },
  {
   "cell_type": "markdown",
   "metadata": {},
   "source": [
    "### Try 2:"
   ]
  },
  {
   "cell_type": "code",
   "execution_count": 16,
   "metadata": {
    "scrolled": false
   },
   "outputs": [],
   "source": [
    "def find_matched_angle(all_angles_fft, all_angles_data, tolerance):\n",
    "    \"\"\"\n",
    "    This function defines whether within each pair angles are matched within\n",
    "    tolerance.\n",
    "    Input is a list of angle pairs (FFT vs. Data).\n",
    "    Output is Bullean\n",
    "    \"\"\"\n",
    "\n",
    "    close_pairs = []\n",
    "    for angle_fft in all_angles_fft:\n",
    "        for angle_data in all_angles_data:\n",
    "            check = np.isclose(angle_fft, angle_data, atol=tolerance)\n",
    "            if check == True:\n",
    "                close_pair = [angle_fft, angle_data]\n",
    "            else:\n",
    "                pass\n",
    "            close_pairs = np.append(close_pairs, close_pair)\n",
    "    return close_pairs\n",
    "\n",
    "#             angle_delta = compare_two_angles(angle_fft, angle_data)\n",
    "#             results = np.append(results, angle_delta)\n",
    "#         results_all = np.append(results_all, [angle_fft, results.tolist()])\n",
    "#     return np.reshape(results_all, (-1, 2))\n",
    "#     check_all = []\n",
    "#     close_pairs = find_closest_angle(all_angles_fft, all_angles_data)\n",
    "#     for i in range(0, len(close_pairs)):\n",
    "#         check = np.isclose(close_pairs[i][0], close_pairs[i][1],\n",
    "#                            atol=tolerance)\n",
    "#         check = [close_pairs[i]] + [check]\n",
    "#         check_all = np.append(check_all, check)\n",
    "#     return np.reshape(check_all, (-1, 2))"
   ]
  },
  {
   "cell_type": "code",
   "execution_count": 17,
   "metadata": {},
   "outputs": [
    {
     "data": {
      "text/plain": [
       "array([11., 10., 11., 10., 11., 10., 11., 10., 11., 10., 29., 30., 29.,\n",
       "       30., 29., 30., 29., 30., 29., 30., 29., 30., 79., 80.])"
      ]
     },
     "execution_count": 17,
     "metadata": {},
     "output_type": "execute_result"
    }
   ],
   "source": [
    "# Example:\n",
    "find_matched_angle([11, 29, 79], [10, 30, 50, 80], 1)"
   ]
  },
  {
   "cell_type": "code",
   "execution_count": null,
   "metadata": {},
   "outputs": [],
   "source": []
  },
  {
   "cell_type": "code",
   "execution_count": null,
   "metadata": {},
   "outputs": [],
   "source": []
  }
 ],
 "metadata": {
  "kernelspec": {
   "display_name": "Python 3",
   "language": "python",
   "name": "python3"
  },
  "language_info": {
   "codemirror_mode": {
    "name": "ipython",
    "version": 3
   },
   "file_extension": ".py",
   "mimetype": "text/x-python",
   "name": "python",
   "nbconvert_exporter": "python",
   "pygments_lexer": "ipython3",
   "version": "3.7.4"
  }
 },
 "nbformat": 4,
 "nbformat_minor": 2
}
