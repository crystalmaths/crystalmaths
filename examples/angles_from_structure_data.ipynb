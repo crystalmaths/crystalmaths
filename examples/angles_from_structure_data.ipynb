{
 "cells": [
  {
   "cell_type": "code",
   "execution_count": 1,
   "metadata": {},
   "outputs": [],
   "source": [
    "import math\n",
    "import pandas as pd\n",
    "import numpy as np"
   ]
  },
  {
   "cell_type": "code",
   "execution_count": 4,
   "metadata": {},
   "outputs": [],
   "source": [
    "def angle_for_all (plane1, plane2, lattice_parameter, alpha_degree, beta_degree, gamma_degree):\n",
    "    \"\"\"This is the function used to calculate the angle between two planes in miller indices, \n",
    "    by calculating arccosine of dot product divide by length product plane1 in format of [h1, k1, l1], \n",
    "    plane2 in format of [h2, k2, l2]. lattice_parameter should be written in format of [a, b, c] and alpha, \n",
    "    beta, gamma are in degree\"\"\"\n",
    "    \n",
    "    alpha = alpha_degree*math.pi/180\n",
    "    beta = beta_degree*math.pi/180\n",
    "    gamma = gamma_degree*math.pi/180\n",
    "    V_square = ((lattice_parameter[0]*lattice_parameter[1]*lattice_parameter[2])**2)*(1 + 2*math.cos(alpha)*math.cos(beta)*math.cos(gamma)-math.cos(alpha)**2-math.cos(beta)**2-math.cos(gamma)**2)\n",
    "    temp = np.zeros((3, 3))\n",
    "    temp[0][0] = (lattice_parameter[1]**2*lattice_parameter[2]**2*math.sin(alpha)**2)/V_square\n",
    "    temp[0][1] = (lattice_parameter[0]*lattice_parameter[1]*lattice_parameter[2]**2*(math.cos(alpha)*math.cos(beta)-math.cos(gamma)))/V_square\n",
    "    temp[0][2] = (lattice_parameter[0]*lattice_parameter[1]**2*lattice_parameter[2]*(math.cos(alpha)*math.cos(gamma)-math.cos(beta)))/V_square\n",
    "    temp[1][0] = (lattice_parameter[0]*lattice_parameter[1]*lattice_parameter[2]**2*(math.cos(alpha)*math.cos(beta)-math.cos(gamma)))/V_square\n",
    "    temp[1][1] = (lattice_parameter[0]**2*lattice_parameter[2]**2*math.sin(beta)**2)/V_square\n",
    "    temp[1][2] = (lattice_parameter[0]**2*lattice_parameter[1]*lattice_parameter[2]*(math.cos(beta)*math.cos(gamma)-math.cos(alpha)))/V_square\n",
    "    temp[2][0] = (lattice_parameter[0]*lattice_parameter[1]**2*lattice_parameter[2]*(math.cos(alpha)*math.cos(gamma)-math.cos(beta)))/V_square\n",
    "    temp[2][1] = (lattice_parameter[0]**2*lattice_parameter[1]*lattice_parameter[2]*(math.cos(beta)*math.cos(gamma)-math.cos(alpha)))/V_square\n",
    "    temp[2][2] = (lattice_parameter[0]**2*lattice_parameter[1]**2*math.sin(gamma)**2)/V_square\n",
    "    d1_array = np.zeros(3)\n",
    "    d2_array = np.zeros(3)\n",
    "    for i in range(3):\n",
    "        for j in range(3):\n",
    "            d1_array[i] = d1_array[i]+plane1[j]*temp[j][i]\n",
    "    for i in range(3):\n",
    "        for j in range(3):\n",
    "            d2_array[i] = d2_array[i]+plane2[j]*temp[j][i]\n",
    "    d1_value = 0\n",
    "    d2_value = 0\n",
    "    for i in range(3):\n",
    "        d1_value = d1_value+d1_array[i]*plane1[i]\n",
    "    for i in range(3):\n",
    "        d2_value = d2_value+d2_array[i]*plane2[i]\n",
    "    \n",
    "    numerator_array = np.zeros(3)\n",
    "    numerator = 0\n",
    "    for i in range(3):\n",
    "        for j in range(3):\n",
    "            numerator_array[i] = numerator_array[i]+plane1[j]*temp[j][i]\n",
    "    for i in range(3):\n",
    "        numerator = numerator+numerator_array[i]*plane2[i]\n",
    "    demoninator = math.sqrt(d1_value*d2_value)\n",
    "    rad = math.acos(numerator/demoninator)\n",
    "    degree = 180*rad/math.pi\n",
    "    return degree\n"
   ]
  },
  {
   "cell_type": "code",
   "execution_count": 6,
   "metadata": {},
   "outputs": [
    {
     "data": {
      "text/plain": [
       "69.1775774707243"
      ]
     },
     "execution_count": 6,
     "metadata": {},
     "output_type": "execute_result"
    }
   ],
   "source": [
    "#This is an example\n",
    "#Verification test could be done on the website:https://neutron.ornl.gov/user_data/hb3a/exp16/tools/Crystal%20Plane%20Spacings%20and%20Interplanar%20Angles.htm \n",
    "plane1 = [1, 0, 4]\n",
    "plane2 = [8, 1, 4]\n",
    "lattice_parameter = [4.99, 5.9, 17.061]\n",
    "alpha = 90\n",
    "beta = 45\n",
    "gamma = 120\n",
    "angle_for_all (plane1, plane2, lattice_parameter, alpha, beta, gamma)"
   ]
  },
  {
   "cell_type": "code",
   "execution_count": null,
   "metadata": {},
   "outputs": [],
   "source": []
  }
 ],
 "metadata": {
  "kernelspec": {
   "display_name": "Python 3",
   "language": "python",
   "name": "python3"
  },
  "language_info": {
   "codemirror_mode": {
    "name": "ipython",
    "version": 3
   },
   "file_extension": ".py",
   "mimetype": "text/x-python",
   "name": "python",
   "nbconvert_exporter": "python",
   "pygments_lexer": "ipython3",
   "version": "3.7.3"
  }
 },
 "nbformat": 4,
 "nbformat_minor": 2
}
