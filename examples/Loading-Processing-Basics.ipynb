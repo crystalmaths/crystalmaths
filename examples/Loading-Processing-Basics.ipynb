{
 "cells": [
  {
   "cell_type": "code",
   "execution_count": 1,
   "metadata": {},
   "outputs": [],
   "source": [
    "import skimage\n",
    "import os\n",
    "import sys\n",
    "import numpy as np\n",
    "import matplotlib.pyplot as plt\n",
    "from scipy.fftpack import fft2, fftshift, ifft\n",
    "from skimage import img_as_float\n",
    "from skimage.color import rgb2gray\n",
    "from skimage import io\n",
    "import skimage\n",
    "%matplotlib qt\n",
    "sys.path.append(\"..\")\n",
    "from crystalmaths import imagetools\n",
    "import crystalmaths"
   ]
  },
  {
   "cell_type": "code",
   "execution_count": 2,
   "metadata": {},
   "outputs": [
    {
     "name": "stdout",
     "output_type": "stream",
     "text": [
      "['C:\\\\Users\\\\lacho\\\\OneDrive - UW\\\\crystalmaths\\\\Local_data\\\\Cubic_1.bmp']\n"
     ]
    }
   ],
   "source": [
    "image_directory = r'C:\\Users\\lacho\\OneDrive - UW\\crystalmaths\\Local_data'\n",
    "image_list = []\n",
    "for root, dirs, files in os.walk(image_directory):\n",
    "    if root == image_directory:\n",
    "        for file in files:\n",
    "            image_list.append(root+os.sep+file)\n",
    "\n",
    "print(image_list)"
   ]
  },
  {
   "cell_type": "code",
   "execution_count": 3,
   "metadata": {},
   "outputs": [
    {
     "name": "stdout",
     "output_type": "stream",
     "text": [
      "Pick planes using left mouse button. Press a key to             terminate. Press right mouse button to restart.\n"
     ]
    },
    {
     "ename": "TypeError",
     "evalue": "'Text' object is not callable",
     "output_type": "error",
     "traceback": [
      "\u001b[1;31m---------------------------------------------------------------------------\u001b[0m",
      "\u001b[1;31mTypeError\u001b[0m                                 Traceback (most recent call last)",
      "\u001b[1;32m<ipython-input-3-d50816ddb74f>\u001b[0m in \u001b[0;36m<module>\u001b[1;34m\u001b[0m\n\u001b[0;32m      1\u001b[0m \u001b[0mimage_object\u001b[0m \u001b[1;33m=\u001b[0m \u001b[0mimagetools\u001b[0m\u001b[1;33m.\u001b[0m\u001b[0mImageHandler\u001b[0m\u001b[1;33m(\u001b[0m\u001b[0mimage_list\u001b[0m\u001b[1;33m[\u001b[0m\u001b[1;36m0\u001b[0m\u001b[1;33m]\u001b[0m\u001b[1;33m)\u001b[0m\u001b[1;33m\u001b[0m\u001b[1;33m\u001b[0m\u001b[0m\n\u001b[0;32m      2\u001b[0m \u001b[1;33m\u001b[0m\u001b[0m\n\u001b[1;32m----> 3\u001b[1;33m \u001b[0mimage_object\u001b[0m\u001b[1;33m.\u001b[0m\u001b[0mget_planes\u001b[0m\u001b[1;33m(\u001b[0m\u001b[1;33m)\u001b[0m\u001b[1;33m\u001b[0m\u001b[1;33m\u001b[0m\u001b[0m\n\u001b[0m",
      "\u001b[1;32m~\\OneDrive - UW\\crystalmaths\\crystalmaths\\imagetools.py\u001b[0m in \u001b[0;36mget_planes\u001b[1;34m(self)\u001b[0m\n\u001b[0;32m     77\u001b[0m         \u001b[0mprint\u001b[0m\u001b[1;33m(\u001b[0m\u001b[0mprompt\u001b[0m\u001b[1;33m)\u001b[0m\u001b[1;33m\u001b[0m\u001b[1;33m\u001b[0m\u001b[0m\n\u001b[0;32m     78\u001b[0m         \u001b[0mfig\u001b[0m\u001b[1;33m,\u001b[0m \u001b[0max\u001b[0m \u001b[1;33m=\u001b[0m \u001b[0mplt\u001b[0m\u001b[1;33m.\u001b[0m\u001b[0msubplots\u001b[0m\u001b[1;33m(\u001b[0m\u001b[1;33m)\u001b[0m\u001b[1;33m\u001b[0m\u001b[1;33m\u001b[0m\u001b[0m\n\u001b[1;32m---> 79\u001b[1;33m         \u001b[0max\u001b[0m\u001b[1;33m.\u001b[0m\u001b[0mtitle\u001b[0m\u001b[1;33m(\u001b[0m\u001b[0mprompt\u001b[0m\u001b[1;33m,\u001b[0m \u001b[0mfontsize\u001b[0m\u001b[1;33m=\u001b[0m\u001b[1;36m16\u001b[0m\u001b[1;33m)\u001b[0m\u001b[1;33m\u001b[0m\u001b[1;33m\u001b[0m\u001b[0m\n\u001b[0m\u001b[0;32m     80\u001b[0m         \u001b[0mplt\u001b[0m\u001b[1;33m.\u001b[0m\u001b[0msetp\u001b[0m\u001b[1;33m(\u001b[0m\u001b[0mplt\u001b[0m\u001b[1;33m.\u001b[0m\u001b[0mgca\u001b[0m\u001b[1;33m(\u001b[0m\u001b[1;33m)\u001b[0m\u001b[1;33m,\u001b[0m \u001b[0mautoscale_on\u001b[0m\u001b[1;33m=\u001b[0m\u001b[1;32mFalse\u001b[0m\u001b[1;33m)\u001b[0m\u001b[1;33m\u001b[0m\u001b[1;33m\u001b[0m\u001b[0m\n\u001b[0;32m     81\u001b[0m         \u001b[0max\u001b[0m\u001b[1;33m.\u001b[0m\u001b[0mimshow\u001b[0m\u001b[1;33m(\u001b[0m\u001b[0mself\u001b[0m\u001b[1;33m.\u001b[0m\u001b[0mimage_fft\u001b[0m\u001b[1;33m,\u001b[0m \u001b[0mcmap\u001b[0m\u001b[1;33m=\u001b[0m\u001b[1;34m'binary_r'\u001b[0m\u001b[1;33m)\u001b[0m\u001b[1;33m\u001b[0m\u001b[1;33m\u001b[0m\u001b[0m\n",
      "\u001b[1;31mTypeError\u001b[0m: 'Text' object is not callable"
     ]
    }
   ],
   "source": [
    "image_object = imagetools.ImageHandler(image_list[0])\n",
    "\n",
    "image_object.get_planes()"
   ]
  },
  {
   "cell_type": "code",
   "execution_count": null,
   "metadata": {},
   "outputs": [],
   "source": []
  },
  {
   "cell_type": "code",
   "execution_count": null,
   "metadata": {},
   "outputs": [],
   "source": [
    "def get_image(image_path):\n",
    "    image = skimage.io.imread(image_path)\n",
    "#     image2 = skimage.img_as_float(image_path)\n",
    "    return image\n",
    "\n",
    "def get_fft(image_array):\n",
    "    image_fft = np.abs(np.fft.fftshift((np.fft.fft2(image_array))))\n",
    "    image_fft = np.log(image_fft)\n",
    "    return image_fft\n",
    "\n",
    "def crop_image(image_array):\n",
    "    \"\"\"\n",
    "    Obtain an inner square crop, assuming that this eliminates scale bar. \n",
    "    Assumption: scale bars aren't present in inner 80% of image.\n",
    "    \"\"\"\n",
    "    x, y= image_array.shape[0], image_array.shape[1]\n",
    "    \n",
    "    #Start of 20% of image in x dimension\n",
    "    percent_crop = 0.2\n",
    "    x_0 = int(x*(percent_crop))\n",
    "    x_f = int(x*(1-percent_crop))\n",
    "    y_0 = int(y*(percent_crop))\n",
    "    y_f = int(y*(1-percent_crop))\n",
    "    \n",
    "    cropped_image = image_array[x_0:x_f,y_0:y_f]\n",
    "    return cropped_image\n",
    "\n",
    "def window_image(image_array, window_name):\n",
    "    filter_options = {\"hann\":apply_hann(image_array)}\n",
    "    \n",
    "    filtered_image = filter_options[window_name]\n",
    "    \n",
    "    return filtered_image\n",
    "\n",
    "def apply_hann(image_array):\n",
    "    \n",
    "    return"
   ]
  },
  {
   "cell_type": "markdown",
   "metadata": {},
   "source": [
    "## Q. Why did cropping the scale bar out not remove the streak? \n",
    "\n",
    "\n",
    "A: Axial streaking is the result of discontinuities at border? \n",
    "\n",
    "Resources:\n",
    "https://dsp.stackexchange.com/questions/25927/fourier-transform-artifacts \n",
    "**I am interested in trying the periodic plus smoth image decomposition to get rid of artifacts, it has already been applied to TEM images before, see pub: https://www.cambridge.org/core/journals/microscopy-and-microanalysis/article/periodic-artifact-reduction-in-fourier-transforms-of-full-field-atomic-resolution-images/80D0E226F0B4B16627AA0B6B9BD24F24, see demo: https://github.com/jacobkimmel/ps_decomp**\n",
    "\n",
    "Also consider:\n",
    "https://dsp.stackexchange.com/questions/26830/python-scipy-fft-on-numpy-hanning-window-smears-peaks\n",
    "\n",
    "#Code_Inspo:\n",
    "https://github.com/wonderchang/img-fft/blob/master/img-fft.py\n",
    "\n"
   ]
  },
  {
   "cell_type": "code",
   "execution_count": null,
   "metadata": {},
   "outputs": [],
   "source": [
    "fig, axes = plt.subplots(1, 2, figsize = (16,16))\n",
    "#No window\n",
    "for image_filepath in image_list:\n",
    "    image_array = get_image(image_filepath)\n",
    "    print(type(image_array))\n",
    "    image_array = crop_image(image_array)\n",
    "    image_fft = get_fft(image_array)\n",
    "    axes[0].imshow(image_array, cmap = 'binary_r')\n",
    "    axes[0].set_title('Cropped Image')\n",
    "    axes[1].imshow(image_fft, cmap = 'binary_r')\n",
    "    axes[1].set_title('Cropped Image FFT')\n",
    "\n",
    "    "
   ]
  },
  {
   "cell_type": "code",
   "execution_count": null,
   "metadata": {},
   "outputs": [],
   "source": [
    "\n",
    "def tellme(s):\n",
    "    print(s)\n",
    "    plt.title(s, fontsize=16)\n",
    "    plt.draw()\n",
    "    \n",
    "plt.setp(plt.gca(), autoscale_on=False)\n",
    "\n",
    "tellme('You will define a triangle, click to begin')\n",
    "\n",
    "plt.waitforbuttonpress()\n",
    "\n",
    "plt.clf()\n",
    "while True:\n",
    "    pts = []\n",
    "    while len(pts) < 3:\n",
    "        tellme('Select 3 corners with mouse')\n",
    "        pts = np.asarray(plt.ginput(3, timeout=-1))\n",
    "        if len(pts) < 3:\n",
    "            tellme('Too few points, starting over')\n",
    "            time.sleep(1)  # Wait a second\n",
    "\n",
    "    ph = plt.fill(pts[:, 0], pts[:, 1], 'r', lw=2)\n",
    "\n",
    "    tellme('Happy? Key click for yes, mouse click for no')\n",
    "\n",
    "    if plt.waitforbuttonpress():\n",
    "        break\n",
    "\n",
    "    # Get rid of fill\n",
    "    for p in ph:\n",
    "        p.remove()\n",
    "        \n",
    "# Define a nice function of distance from individual pts\n",
    "def f(x, y, pts):\n",
    "    z = np.zeros_like(x)\n",
    "    for p in pts:\n",
    "        z = z + 1/(np.sqrt((x - p[0])**2 + (y - p[1])**2))\n",
    "    return 1/z\n",
    "\n",
    "\n",
    "X, Y = np.meshgrid(np.linspace(-1, 1, 51), np.linspace(-1, 1, 51))\n",
    "Z = f(X, Y, pts)\n",
    "\n",
    "CS = plt.contour(X, Y, Z, 20)\n",
    "\n",
    "tellme('Use mouse to select contour label locations, middle button to finish')\n",
    "CL = plt.clabel(CS, manual=False)"
   ]
  }
 ],
 "metadata": {
  "kernelspec": {
   "display_name": "Python 3",
   "language": "python",
   "name": "python3"
  },
  "language_info": {
   "codemirror_mode": {
    "name": "ipython",
    "version": 3
   },
   "file_extension": ".py",
   "mimetype": "text/x-python",
   "name": "python",
   "nbconvert_exporter": "python",
   "pygments_lexer": "ipython3",
   "version": "3.7.6"
  }
 },
 "nbformat": 4,
 "nbformat_minor": 2
}
