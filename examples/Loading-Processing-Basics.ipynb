{
 "cells": [
  {
   "cell_type": "code",
   "execution_count": 1,
   "metadata": {},
   "outputs": [],
   "source": [
    "import skimage\n",
    "from skimage import transform\n",
    "import os\n",
    "import sys\n",
    "import numpy as np\n",
    "import matplotlib.pyplot as plt\n",
    "from scipy.fftpack import fft2, fftshift, ifft\n",
    "from skimage import img_as_float\n",
    "from skimage.color import rgb2gray\n",
    "from skimage import io\n",
    "import skimage\n",
    "%matplotlib qt\n",
    "sys.path.append(\"..\")\n",
    "from crystalmaths import imagetools\n",
    "import crystalmaths"
   ]
  },
  {
   "cell_type": "code",
   "execution_count": 2,
   "metadata": {},
   "outputs": [
    {
     "name": "stdout",
     "output_type": "stream",
     "text": [
      "['C:\\\\Users\\\\lacho\\\\OneDrive - UW\\\\crystalmaths\\\\Local_data\\\\Cubic_1.bmp']\n"
     ]
    }
   ],
   "source": [
    "image_directory = r'C:\\Users\\lacho\\OneDrive - UW\\crystalmaths\\Local_data'\n",
    "image_list = []\n",
    "for root, dirs, files in os.walk(image_directory):\n",
    "    if root == image_directory:\n",
    "        for file in files:\n",
    "            image_list.append(root+os.sep+file)\n",
    "\n",
    "print(image_list)"
   ]
  },
  {
   "cell_type": "code",
   "execution_count": null,
   "metadata": {},
   "outputs": [
    {
     "name": "stdout",
     "output_type": "stream",
     "text": [
      "Enter scalebar length in nanometers.2\n"
     ]
    }
   ],
   "source": [
    "image_object = imagetools.ImageHandler(image_list[0], window_type='hann')\n",
    "image_object.get_scale_ratio()\n",
    "# image_object.show_image()\n",
    "image_object.get_planes()\n",
    "# image_object.(pixel_to_nm_ratio)\n",
    "# image_object.get_scale() #Needs prompt for scale bar in nm\n",
    "# image_object.pixel_to_nm_ratio"
   ]
  },
  {
   "cell_type": "code",
   "execution_count": null,
   "metadata": {},
   "outputs": [],
   "source": [
    "image_object.scale_ratio"
   ]
  },
  {
   "cell_type": "code",
   "execution_count": null,
   "metadata": {},
   "outputs": [],
   "source": [
    "image_object.image_array.shape"
   ]
  },
  {
   "cell_type": "code",
   "execution_count": null,
   "metadata": {},
   "outputs": [],
   "source": []
  },
  {
   "cell_type": "code",
   "execution_count": null,
   "metadata": {},
   "outputs": [],
   "source": [
    "def get_image(image_path):\n",
    "    image = skimage.io.imread(image_path)\n",
    "#     image2 = skimage.img_as_float(image_path)\n",
    "    return image\n",
    "\n",
    "def get_fft(image_array):\n",
    "    image_fft = np.abs(np.fft.fftshift((np.fft.fft2(image_array))))\n",
    "    image_fft = np.log(image_fft)\n",
    "    return image_fft\n",
    "\n",
    "def crop_image(image_array):\n",
    "    \"\"\"\n",
    "    Obtain an inner square crop, assuming that this eliminates scale bar. \n",
    "    Assumption: scale bars aren't present in inner 80% of image.\n",
    "    \"\"\"\n",
    "    x, y= image_array.shape[0], image_array.shape[1]\n",
    "    \n",
    "    #Start of 20% of image in x dimension\n",
    "    percent_crop = 0.2\n",
    "    x_0 = int(x*(percent_crop))\n",
    "    x_f = int(x*(1-percent_crop))\n",
    "    y_0 = int(y*(percent_crop))\n",
    "    y_f = int(y*(1-percent_crop))\n",
    "    \n",
    "    cropped_image = image_array[x_0:x_f,y_0:y_f]\n",
    "    return cropped_image\n",
    "\n",
    "def window_image(image_array, window_name):\n",
    "    filter_options = {\"hann\":apply_hann(image_array)}\n",
    "    \n",
    "    filtered_image = filter_options[window_name]\n",
    "    \n",
    "    return filtered_image\n",
    "\n",
    "def apply_hann(image_array):\n",
    "    \n",
    "    return"
   ]
  },
  {
   "cell_type": "markdown",
   "metadata": {},
   "source": [
    "## Q. Why did cropping the scale bar out not remove the streak? \n",
    "\n",
    "\n",
    "A: Axial streaking is the result of discontinuities at border? \n",
    "\n",
    "Resources:\n",
    "https://dsp.stackexchange.com/questions/25927/fourier-transform-artifacts \n",
    "**I am interested in trying the periodic plus smoth image decomposition to get rid of artifacts, it has already been applied to TEM images before, see pub: https://www.cambridge.org/core/journals/microscopy-and-microanalysis/article/periodic-artifact-reduction-in-fourier-transforms-of-full-field-atomic-resolution-images/80D0E226F0B4B16627AA0B6B9BD24F24, see demo: https://github.com/jacobkimmel/ps_decomp**\n",
    "\n",
    "Also consider:\n",
    "https://dsp.stackexchange.com/questions/26830/python-scipy-fft-on-numpy-hanning-window-smears-peaks\n",
    "\n",
    "#Code_Inspo:\n",
    "https://github.com/wonderchang/img-fft/blob/master/img-fft.py\n",
    "\n"
   ]
  },
  {
   "cell_type": "code",
   "execution_count": null,
   "metadata": {},
   "outputs": [],
   "source": [
    "from scipy import ndimage as ndi\n",
    "import matplotlib.pyplot as plt\n",
    "from skimage.feature import peak_local_max\n",
    "from skimage import data, img_as_float\n",
    "\n",
    "im = img_as_float(image_object.image_fft)\n",
    "\n",
    "# image_max is the dilation of im with a 20*20 structuring element\n",
    "# It is used within peak_local_max function\n",
    "image_max = ndi.maximum_filter(im, size=20, mode='constant')\n",
    "\n",
    "# Comparison between image_max and im to find the coordinates of local maxima\n",
    "coordinates = peak_local_max(im, min_distance=20)\n",
    "\n",
    "# display results\n",
    "fig, axes = plt.subplots(1, 3, figsize=(8, 3), sharex=True, sharey=True)\n",
    "ax = axes.ravel()\n",
    "ax[0].imshow(im, cmap=plt.cm.gray)\n",
    "ax[0].axis('off')\n",
    "ax[0].set_title('Original')\n",
    "\n",
    "ax[1].imshow(image_max, cmap=plt.cm.gray)\n",
    "ax[1].axis('off')\n",
    "ax[1].set_title('Maximum filter')\n",
    "\n",
    "ax[2].imshow(im, cmap=plt.cm.gray)\n",
    "ax[2].autoscale(False)\n",
    "ax[2].plot(coordinates[:, 1], coordinates[:, 0], 'r.')\n",
    "ax[2].axis('off')\n",
    "ax[2].set_title('Peak local max')\n",
    "\n",
    "fig.tight_layout()\n",
    "\n",
    "plt.show()\n",
    "    "
   ]
  }
 ],
 "metadata": {
  "kernelspec": {
   "display_name": "Python 3",
   "language": "python",
   "name": "python3"
  },
  "language_info": {
   "codemirror_mode": {
    "name": "ipython",
    "version": 3
   },
   "file_extension": ".py",
   "mimetype": "text/x-python",
   "name": "python",
   "nbconvert_exporter": "python",
   "pygments_lexer": "ipython3",
   "version": "3.7.6"
  }
 },
 "nbformat": 4,
 "nbformat_minor": 2
}
