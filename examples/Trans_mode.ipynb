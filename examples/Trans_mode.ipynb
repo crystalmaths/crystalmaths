{
 "cells": [
  {
   "cell_type": "code",
   "execution_count": 1,
   "metadata": {},
   "outputs": [],
   "source": [
    "import math\n",
    "import numpy as np"
   ]
  },
  {
   "cell_type": "code",
   "execution_count": 6,
   "metadata": {},
   "outputs": [],
   "source": [
    "def hexag_trans(vector):\n",
    "    '''This is a function used to translate hexagonal lattice with four coordinates to three coordinates. Vector should be written in numpy.array format with four parameters'''\n",
    "    after = np.zeros(3)\n",
    "    after[0] = vector[0]-vector[2]\n",
    "    after[1] = vector[1]-vector[2]\n",
    "    after[2] = vector[3]\n",
    "    return after\n",
    "    "
   ]
  },
  {
   "cell_type": "code",
   "execution_count": 4,
   "metadata": {},
   "outputs": [],
   "source": [
    "def angle_to_degree(alpha1, beta1, gamma1):\n",
    "    '''This is a function used to translate angle from rad to degree, \n",
    "    user can obtain degree directly from the function'''\n",
    "    alpha = alpha1*180/math.pi\n",
    "    beta = beta1*180/math.pi\n",
    "    gamma = gamma1*180/math.pi\n",
    "    print(alpha)\n",
    "    print(beta)\n",
    "    print(gamma)\n",
    "    return alpha, beta, gamma\n",
    "    \n",
    "    "
   ]
  },
  {
   "cell_type": "code",
   "execution_count": 9,
   "metadata": {},
   "outputs": [
    {
     "name": "stdout",
     "output_type": "stream",
     "text": [
      "[-4. -3.  0.]\n",
      "59.99999999999999\n",
      "90.0\n",
      "180.0\n"
     ]
    },
    {
     "data": {
      "text/plain": [
       "(59.99999999999999, 90.0, 180.0)"
      ]
     },
     "execution_count": 9,
     "metadata": {},
     "output_type": "execute_result"
    }
   ],
   "source": [
    "#Example\n",
    "vector = [1, 2, 5, 0]\n",
    "print(hexag_trans(vector))\n",
    "angle_to_degree(math.pi/3, math.pi/2, math.pi)"
   ]
  },
  {
   "cell_type": "code",
   "execution_count": null,
   "metadata": {},
   "outputs": [],
   "source": []
  }
 ],
 "metadata": {
  "kernelspec": {
   "display_name": "Python 3",
   "language": "python",
   "name": "python3"
  },
  "language_info": {
   "codemirror_mode": {
    "name": "ipython",
    "version": 3
   },
   "file_extension": ".py",
   "mimetype": "text/x-python",
   "name": "python",
   "nbconvert_exporter": "python",
   "pygments_lexer": "ipython3",
   "version": "3.7.3"
  }
 },
 "nbformat": 4,
 "nbformat_minor": 2
}
