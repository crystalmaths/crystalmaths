{
 "cells": [
  {
   "cell_type": "code",
<<<<<<< HEAD
   "execution_count": null,
=======
   "execution_count": 4,
>>>>>>> 707530fc49d7237c9681a823ef17339e8917def7
   "metadata": {},
   "outputs": [],
   "source": [
    "import sys\n",
    "sys.path.append('..')\n",
    "import crystalmaths\n",
    "#Interactive mode necessary to select planes in image.\n",
    "%matplotlib qt"
   ]
  },
  {
   "cell_type": "markdown",
   "metadata": {},
   "source": [
    "# Create ImageHandler\n",
    "\n",
    "Provide a filepath as the input to the ImageHandler class. Optional argument is window_type. \n",
    "Please read about the implications of applying a window to an image, and alternative options. \n",
    "The purpose of applying the window is to decrease the contribution of features near the outside of the image, e.g. the scalebar. \n",
    "\n",
    "\n",
    "## Q. Why did cropping the scale bar out not remove the streak? \n",
    "\n",
    "\n",
    "A: Discontinuities at border being interpreted as features by FFT.\n",
    "\n",
    "Resources:\n",
    "https://dsp.stackexchange.com/questions/25927/fourier-transform-artifacts \n",
    "https://www.cambridge.org/core/journals/microscopy-and-microanalysis/article/periodic-artifact-reduction-in-fourier-transforms-of-full-field-atomic-resolution-images/80D0E226F0B4B16627AA0B6B9BD24F24\n",
    "\n",
    "see demo: https://github.com/jacobkimmel/ps_decomp\n",
    "\n",
    "Also consider:\n",
    "https://dsp.stackexchange.com/questions/26830/python-scipy-fft-on-numpy-hanning-window-smears-peaks\n"
   ]
  },
  {
   "cell_type": "code",
<<<<<<< HEAD
   "execution_count": null,
=======
   "execution_count": 5,
>>>>>>> 707530fc49d7237c9681a823ef17339e8917def7
   "metadata": {},
   "outputs": [],
   "source": [
    "image_filepath = r'../Local_data/SL_Bornite_011.png'\n",
    "image_object = crystalmaths.imagetools.ImageHandler(image_filepath=image_filepath, window_type = 'hanning')\n",
    "image_object.show_image()"
   ]
  },
  {
   "cell_type": "markdown",
   "metadata": {},
   "source": [
    "# Interacting with ImageHandler object called image_object\n",
    "\n",
    "image_object is an object which contains useful attributes used later to perform a search of a crystal structure database.\n",
    "\n",
    "1. Input the pixel:nm scale ratio for the image. This can be done by either inputting it as an argument to the .get_scale_ratio method, or by keeping the method call blank. The latter opens your image to allow scalebar selection by clicking on the image.\n",
    "2. Next, we want to select two planes in the image to index. Use the .get_planes() method. This will open up your TEM image and prompt you to click on the planes you are interested in performing a search on. "
   ]
  },
  {
   "cell_type": "code",
<<<<<<< HEAD
   "execution_count": null,
   "metadata": {},
   "outputs": [],
=======
   "execution_count": 6,
   "metadata": {},
   "outputs": [
    {
     "name": "stdout",
     "output_type": "stream",
     "text": [
      "Enter scalebar length in nanometers.2\n",
      "length_nm =  2.0\n",
      "length_pixel = 20.12987012987014\n"
     ]
    }
   ],
>>>>>>> 707530fc49d7237c9681a823ef17339e8917def7
   "source": [
    "image_object.get_scale_ratio(20)"
   ]
  },
  {
   "cell_type": "code",
<<<<<<< HEAD
   "execution_count": null,
   "metadata": {},
   "outputs": [],
=======
   "execution_count": 7,
   "metadata": {},
   "outputs": [
    {
     "name": "stdout",
     "output_type": "stream",
     "text": [
      "Pick two planes using left mouse button. Right click once done. Middle mouse button removes most recent point.\n",
      "Saved points =  [(304.474025974026, 165.0681818181818), (252.47186147186147, 30.030303030303003)]\n",
      "Press keyboard button to save points, mouseclick to restart\n"
     ]
    }
   ],
>>>>>>> 707530fc49d7237c9681a823ef17339e8917def7
   "source": [
    "image_object.get_planes()"
   ]
  },
  {
   "cell_type": "markdown",
   "metadata": {},
   "source": [
    "### Use image_object to Perform Search\n",
    "\n",
    "arguments for compile_results are: \n",
    "- image_object: which is generated above in this notebook \n",
    "- d_spacing_tolerance: which is how strict the querry is to the American Minerals Society Database (we reccomend 0.2 because of uncertainty from clicking a pixel in the user interface)\n",
    "- angle_tolerance: which is how strict the analysis is for returning pairs of planes with matching angles between them (we reccomend 10 degrees because of uncertainty from clicking a pixel in the user interface) \n",
    "\n",
    "result_list = [(pandas dataframe1, pandas dataframe2), ...]\n",
    "This is a list of tuples where each item is a result from the American Minearologist Crystal Structure Database\n",
    "- First dataframe contains analysis results, which shows what the possible zone axis and mineral name are\n",
    "- Second dataframe contains other metadata obtained during the search"
   ]
  },
  {
   "cell_type": "code",
<<<<<<< HEAD
   "execution_count": null,
   "metadata": {},
   "outputs": [],
=======
   "execution_count": 8,
   "metadata": {},
   "outputs": [
    {
     "name": "stdout",
     "output_type": "stream",
     "text": [
      "Searching this page: http://rruff.geo.arizona.edu/AMS/result.php?diff=vals(2.061503918298683,1.9563936966129438),opt(),type(d-spacing),tolerance(0.2)&mineral=Bornite\n",
      "No results identified from search.\n"
     ]
    }
   ],
>>>>>>> 707530fc49d7237c9681a823ef17339e8917def7
   "source": [
    "result_list = crystalmaths.compile_results.compile_results(\n",
    "    image_object=image_object, d_spacing_tolerance=0.1, angle_tolerance=10, mineral='Bornite')"
   ]
  },
  {
   "cell_type": "code",
<<<<<<< HEAD
   "execution_count": null,
=======
   "execution_count": 9,
>>>>>>> 707530fc49d7237c9681a823ef17339e8917def7
   "metadata": {},
   "outputs": [],
   "source": [
    "for result in result_list:\n",
    "    print(result)"
   ]
  },
  {
   "cell_type": "code",
   "execution_count": null,
   "metadata": {},
   "outputs": [],
   "source": []
  }
 ],
 "metadata": {
  "kernelspec": {
   "display_name": "Python 3",
   "language": "python",
   "name": "python3"
  },
  "language_info": {
   "codemirror_mode": {
    "name": "ipython",
    "version": 3
   },
   "file_extension": ".py",
   "mimetype": "text/x-python",
   "name": "python",
   "nbconvert_exporter": "python",
   "pygments_lexer": "ipython3",
   "version": "3.7.4"
  }
 },
 "nbformat": 4,
 "nbformat_minor": 2
}
