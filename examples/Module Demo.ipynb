{
 "cells": [
  {
   "cell_type": "code",
   "execution_count": 1,
   "metadata": {},
   "outputs": [],
   "source": [
    "import sys\n",
    "sys.path.append('..')\n",
    "import crystalmaths\n",
    "#Interactive mode necessary to select planes in image.\n",
    "%matplotlib qt"
   ]
  },
  {
   "cell_type": "markdown",
   "metadata": {},
   "source": [
    "# Create ImageHandler\n",
    "\n",
    "Provide a filepath as the input to the ImageHandler class. Optional argument is window_type. \n",
    "Please read about the implications of applying a window to an image, and alternative options. \n",
    "The purpose of applying the window is to decrease the contribution of features near the outside of the image, e.g. the scalebar. \n",
    "\n",
    "\n",
    "## Q. Why did cropping the scale bar out not remove the streak? \n",
    "\n",
    "\n",
    "A: Discontinuities at border being interpreted as features by FFT.\n",
    "\n",
    "Resources:\n",
    "https://dsp.stackexchange.com/questions/25927/fourier-transform-artifacts \n",
    "https://www.cambridge.org/core/journals/microscopy-and-microanalysis/article/periodic-artifact-reduction-in-fourier-transforms-of-full-field-atomic-resolution-images/80D0E226F0B4B16627AA0B6B9BD24F24\n",
    "\n",
    "see demo: https://github.com/jacobkimmel/ps_decomp\n",
    "\n",
    "Also consider:\n",
    "https://dsp.stackexchange.com/questions/26830/python-scipy-fft-on-numpy-hanning-window-smears-peaks\n"
   ]
  },
  {
   "cell_type": "code",
   "execution_count": 2,
   "metadata": {},
   "outputs": [],
   "source": [
    "image_filepath = r'C:\\Users\\lacho\\OneDrive - UW\\crystalmaths\\Local_data\\SL_Bornite_011.png'\n",
    "image_object = crystalmaths.imagetools.ImageHandler(image_filepath=image_filepath, window_type = 'hanning')\n",
    "image_object.show_image()"
   ]
  },
  {
   "cell_type": "markdown",
   "metadata": {},
   "source": [
    "# Interacting with ImageHandler object called image_object\n",
    "\n",
    "image_object is an object which contains useful attributes used later to perform a search of a crystal structure database.\n",
    "\n",
    "1. Input the pixel:nm scale ratio for the image. This can be done by either inputting it as an argument to the .get_scale_ratio method, or by keeping the method call blank. The latter opens your image to allow scalebar selection by clicking on the image.\n",
    "2. Next, we want to select two planes in the image to index. Use the .get_planes() method. This will open up your TEM image and prompt you to click on the planes you are interested in performing a search on. "
   ]
  },
  {
   "cell_type": "code",
   "execution_count": 3,
   "metadata": {},
   "outputs": [],
   "source": [
    "image_object.get_scale_ratio(20)"
   ]
  },
  {
   "cell_type": "code",
   "execution_count": 4,
   "metadata": {},
   "outputs": [
    {
     "name": "stdout",
     "output_type": "stream",
     "text": [
      "Pick two planes using left mouse button. Right click once done. Middle mouse button removes most recent point.\n",
      "Saved points =  [(164.31835630779966, 73.66755988732956), (238.8877408579903, 111.14543709649274)]\n",
      "Press keyboard button to save points, mouseclick to restart\n"
     ]
    }
   ],
   "source": [
    "image_object.get_planes()"
   ]
  },
  {
   "cell_type": "markdown",
   "metadata": {},
   "source": [
    "### Use image_object to Perform Search\n",
    "\n",
    "result_list = [(pandas dataframe1, pandas dataframe2), ...]\n",
    "This is a list of tuples where each item is a result from the American Minearologist Crystal Structure Database\n",
    "- First dataframe contains analysis results, which shows what the possible zone axis and mineral name are\n",
    "- Second dataframe contains other metadata obtained during the search"
   ]
  },
  {
   "cell_type": "code",
   "execution_count": 10,
   "metadata": {},
   "outputs": [
    {
     "name": "stdout",
     "output_type": "stream",
     "text": [
      "Searching this page: http://rruff.geo.arizona.edu/AMS/result.php?diff=vals(1.9018762824001347,1.6581571119803415),opt(),type(d-spacing),tolerance(0.1)&mineral=Bornite\n"
     ]
    }
   ],
   "source": [
    "result_list = crystalmaths.compile_results.compile_results(\n",
    "    image_object=image_object, d_spacing_tolerance=0.1, angle_tolerance=10, mineral='Bornite')"
   ]
  },
  {
   "cell_type": "code",
   "execution_count": 11,
   "metadata": {},
   "outputs": [
    {
     "name": "stdout",
     "output_type": "stream",
     "text": [
      "(  Mineral_Name    D-REF1    D-REF2  D-SPACING1  D-SPACING2   H1   K1   L1  \\\n",
      "0    [Bornite]  1.901876  1.658157      1.9337      1.6672  3.0  2.0  3.0   \n",
      "1    [Bornite]  1.901876  1.658157      1.9337      1.6485  3.0  2.0  3.0   \n",
      "2    [Bornite]  1.901876  1.658157      1.9337      1.6482  3.0  2.0  3.0   \n",
      "\n",
      "    H2   K2   L2      angle  angle-fft  angle match         zone axis  \n",
      "0  1.0 -1.0  1.0  49.664897  56.272386         True  [5.0, 0.0, -5.0]  \n",
      "1  3.0  2.0  1.0  64.786074  56.272386         True  [-4.0, 6.0, 0.0]  \n",
      "2  2.0  0.0  0.0  64.759866  56.272386         True  [0.0, 6.0, -4.0]  ,   Mineral_Name    a    b    c  alpha  gamma   beta\n",
      "0      Bornite  6.7  6.7  6.7  33.53  33.53  33.53)\n",
      "(  Mineral_Name    D-REF1    D-REF2  D-SPACING1  D-SPACING2   H1   K1   L1  \\\n",
      "1    [Bornite]  1.901876  1.658157      1.9357      1.6682  4.0  0.0  4.0   \n",
      "3    [Bornite]  1.901876  1.658157      1.9357      1.6484  4.0  0.0  4.0   \n",
      "5    [Bornite]  1.901876  1.658157      1.9340      1.6693  0.0  8.0  4.0   \n",
      "7    [Bornite]  1.901876  1.658157      1.9340      1.6505  0.0  8.0  4.0   \n",
      "\n",
      "    H2    K2   L2      angle  angle-fft  angle match           zone axis  \n",
      "1  3.0  10.0  3.0  49.733539  56.272386         True  [-40.0, 0.0, 40.0]  \n",
      "3  2.0  12.0  2.0  64.798955  56.272386         True  [-48.0, 0.0, 48.0]  \n",
      "5  5.0   6.0  3.0  49.659891  56.272386         True  [0.0, 20.0, -40.0]  \n",
      "7  6.0   4.0  2.0  64.741387  56.272386         True  [0.0, 24.0, -48.0]  ,   Mineral_Name      a       b      c  alpha  gamma  beta\n",
      "0      Bornite  10.95  21.862  10.95   90.0   90.0  90.0)\n"
     ]
    }
   ],
   "source": [
    "for result in result_list:\n",
    "    print(result)"
   ]
  },
  {
   "cell_type": "code",
   "execution_count": null,
   "metadata": {},
   "outputs": [],
   "source": []
  }
 ],
 "metadata": {
  "kernelspec": {
   "display_name": "Python 3",
   "language": "python",
   "name": "python3"
  },
  "language_info": {
   "codemirror_mode": {
    "name": "ipython",
    "version": 3
   },
   "file_extension": ".py",
   "mimetype": "text/x-python",
   "name": "python",
   "nbconvert_exporter": "python",
   "pygments_lexer": "ipython3",
   "version": "3.7.6"
  }
 },
 "nbformat": 4,
 "nbformat_minor": 2
}
