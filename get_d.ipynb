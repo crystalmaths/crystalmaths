{
 "cells": [
  {
   "cell_type": "markdown",
   "metadata": {},
   "source": [
    "This notebook is for creating the functionality of querying an external database and extracting data from that database, and storing it into a numpy array"
   ]
  },
  {
   "cell_type": "code",
   "execution_count": 12,
   "metadata": {},
   "outputs": [],
   "source": [
    "#import the needed packages\n",
    "#%load_ext pycodestyle_magic\n",
    "#%pycodestyle_on\n",
    "import numpy as np\n",
    "import pandas as pd\n",
    "from bs4 import BeautifulSoup\n",
    "from bs4.dammit import EncodingDetector\n",
    "import requests\n",
    "import re\n",
    "import csv"
   ]
  },
  {
   "cell_type": "code",
   "execution_count": 16,
   "metadata": {},
   "outputs": [],
   "source": [
    "#define the needed functions\n",
    "#take one input that's a list to be able to have a variable number of dspacings\n",
    "def make_web_address(dspacing1, dspacing2):\n",
    "    '''\n",
    "    make_web_address will compile a string to use for a webpage address\n",
    "    \n",
    "    For example, if I want to search for rutile on the American \n",
    "    Minerals Society webpage, I might use this address:\n",
    "    \n",
    "    http://rruff.geo.arizona.edu/AMS/result.php?diff=vals(3.2435,2.4836),opt(),type(d-spacing),tolerance(.001)\n",
    "    \n",
    "    Where 3.2435 and 2.4836 are two d spacings in the rutile structure\n",
    "    '''\n",
    "    \n",
    "    web_address = 'http://rruff.geo.arizona.edu/AMS/result.php?diff=vals(' + str(dspacing1) + ',' + str(dspacing2) +'),opt(),type(d-spacing),tolerance(.001)'\n",
    "    \n",
    "    return web_address\n",
    "\n",
    "def find_diffraction_files(href):\n",
    "    '''\n",
    "    find_diffraction_files is a sorting function that can be passed \n",
    "    into compile_links to generate a specific set of diffraction text \n",
    "    file web addresses from the American Mineral Society database\n",
    "    \n",
    "    find_diffraction_files works together with compile_links\n",
    "    '''\n",
    "# commented out logic will return the text file links\n",
    "#     return href and re.compile(\"txt\").search(href) and not re.compile(\"dif\").search(href)        \n",
    "    return href and re.compile(\"dif\").search(href)        \n",
    "\n",
    "def compile_links(web_address):\n",
    "    '''\n",
    "    compile_links accesses a webpage at a given address,\n",
    "    finds all of the links on that page, and appends certain links \n",
    "    to a list called links_list.\n",
    "    \n",
    "    compile links works together with find_diffraction_files to \n",
    "    get only the relevant links.\n",
    "    \n",
    "    inputs are a web address, and the list for storing links\n",
    "    '''\n",
    "    \n",
    "    html_page = requests.get(web_address)\n",
    "    http_encoding = html_page.encoding if 'charset' in html_page.headers.get('content-type', '').lower() else None\n",
    "    html_encoding = EncodingDetector.find_declared_encoding(html_page.content, is_html=True)\n",
    "    encoding = html_encoding or http_encoding\n",
    "    soup = BeautifulSoup(html_page.content, from_encoding=encoding)\n",
    "    links_list = []\n",
    "    for link in soup.find_all(href=find_diffraction_files):\n",
    "        links_list.append('http://rruff.geo.arizona.edu'+link['href'])\n",
    "    \n",
    "    return links_list\n",
    "\n",
    "def split_diffraction_data(link):\n",
    "    '''\n",
    "    get_diffraction_data will compile crystal structure parameters and \n",
    "    indexes of all potential planes into a pandas DataFrame\n",
    "    \n",
    "    Inputs are an array of truncated href, two d spacings from the FFT, \n",
    "    and the pandas DataFrame into which data will be stored. Returns the\n",
    "    populated DataFrame.\n",
    "    '''\n",
    "\n",
    "    with requests.Session() as s:\n",
    "        download = s.get(link)\n",
    "        decoded_content = download.content.decode('utf-8')\n",
    "        metadata_list = []\n",
    "        reader = csv.reader(decoded_content.splitlines())\n",
    "        raw_data_list = []\n",
    "        for i, row in enumerate(reader):\n",
    "            #This is for handling [], empty rows\n",
    "            if len(row) != 0:\n",
    "                entry = row[0]\n",
    "                entry.split()\n",
    "                raw_data_list.append(entry)\n",
    "                string = row[0]\n",
    "            if string.find('2-THETA') != -1:\n",
    "                metadata_end_index = i\n",
    "            elif string.find('==============================') != -1:\n",
    "                data_end_index = i\n",
    "            else:\n",
    "                pass\n",
    "                \n",
    "        metadata_list = raw_data_list[0:metadata_end_index-1]\n",
    "        data_list = raw_data_list[metadata_end_index-1:data_end_index-1]\n",
    "    return (metadata_list, data_list)\n",
    "\n",
    "def sort_lists(link):\n",
    "    '''\n",
    "    sort_lists is a function that returns formated data aquired from\n",
    "    the American Mineral Society for analysis\n",
    "    \n",
    "    inputs are a tuple of two lists, one containing metadata and one \n",
    "    containing diffraction data.  \n",
    "    These lists come from the split_diffraction_data function\n",
    "    \n",
    "    the output is a tuple of three lists containing our \n",
    "    desired metadata, our data labels, and diffraction data \n",
    "    \n",
    "    desired metadata: Mineral Name, Space Group, Cell Parameters \n",
    "    '''\n",
    "    metadata_list, data_list = split_diffraction_data(link)\n",
    "    structure_list = [metadata_list[0]]\n",
    "    data_labels = [data_list[0].split()]\n",
    "    clean_data_list = []\n",
    "    #this loop works through the metadata and \n",
    "    #extracts the values that we want  \n",
    "    #currently we have strings containing what we want and \n",
    "    #they need to be processed further to remove whitespace, \n",
    "    #cell paramaters need to be split up, \n",
    "    #extra label text needs to be removed, and \n",
    "    #strings of numbers need to be converted to floats\n",
    "\n",
    "    for row in metadata_list:\n",
    "        string = row\n",
    "        entry = row\n",
    "        if string.find('SPACE') != -1:\n",
    "            structure_list.append(entry)\n",
    "        if string.find('PARAMETERS') != -1:\n",
    "            structure_list.append(entry)\n",
    "    #print(structure_list) \n",
    "\n",
    "    #this loop works through the actuall data and \n",
    "    #extracts the rows with d spacing close to measured values from fft\n",
    "    #needs to split the rows,\n",
    "    #convert the strings of numbers into floats,\n",
    "    #compile the rows which contain d spacings close to measured values from fft\n",
    "    #remove extra data that we don't need to only keep d spacing and h k l values\n",
    "    del data_list[0] #this command is removing the labels, which have been stored in a separate list\n",
    "    for row in data_list:\n",
    "        string = row\n",
    "        entry = string.split()\n",
    "        clean_row = []\n",
    "        for item in entry:\n",
    "            item = float(item)\n",
    "            clean_row.append(item)\n",
    "        clean_data_list.append(clean_row)\n",
    "    return structure_list, data_labels, clean_data_list\n",
    "\n",
    "    \n",
    "\n",
    "def lists_to_dfs(link):\n",
    "    '''\n",
    "    lists_to_dfs generates pandas dataframes for the data and metadata \n",
    "    '''\n",
    "    structure_list, data_labels, clean_data_list = sort_lists(link)\n",
    "    mineral = structure_list[0]\n",
    "    metadata_dict = {'Mineral_Name': mineral.strip()}\n",
    "    cell_params = structure_list[1]\n",
    "    cell_params_list = cell_params.split()\n",
    "    del cell_params_list[0:2]#here i want to remove all list entries with a non digit \\D\n",
    "    cell_params_labels = ['a','b','c','alpha', 'gamma', 'beta']\n",
    "    i = 0\n",
    "    for entry in cell_params_labels:\n",
    "        label = cell_params_labels[i]\n",
    "        entry = cell_params_list[i]\n",
    "        metadata_dict.update({label:[entry]})\n",
    "        i = i + 1\n",
    "    metadata_df = pd.DataFrame(metadata_dict)\n",
    "    diffraction_df = pd.DataFrame(clean_data_list, columns=data_labels[0])\n",
    "    diffraction_df = diffraction_df[['D-SPACING', 'H', 'K', 'L']]\n",
    "    return metadata_df, diffraction_df\n",
    "\n",
    "def select_data(link, d_spacing_list):\n",
    "    '''\n",
    "    select_data compiles a new dataframe from the diffraction data\n",
    "    containing only the rows with relevant data to our search \n",
    "    '''\n",
    "    metadata_df, diffraction_df = lists_to_dfs(link)\n",
    "    structure_df = pd.DataFrame()\n",
    "    for entry in d_spacing_list:\n",
    "        d_spacing_df = diffraction_df.loc[np.isclose(diffraction_df['D-SPACING'], entry, atol=.1)]\n",
    "        structure_df = structure_df.append(d_spacing_df)\n",
    "#    crystalmaths_df = pd.concat([metadata_df, structure_df], axis=1, ignore_index=True)\n",
    "    return structure_df, metadata_df\n",
    "\n",
    "\n",
    "def query_wrapper(links_list, d_spacing_list):\n",
    "    crystalmaths_master_list = []\n",
    "    for link in links_list:\n",
    "        mineral_tuple = (select_data(link, d_spacing_list))\n",
    "        crystalmaths_master_list.append(mineral_tuple)\n",
    "    return crystalmaths_master_list\n",
    "\n"
   ]
  },
  {
   "cell_type": "code",
   "execution_count": 17,
   "metadata": {},
   "outputs": [
    {
     "data": {
      "text/plain": [
       "[(    D-SPACING    H    K    L\n",
       "  23     3.3944  0.0  1.0  5.0\n",
       "  24     3.3470 -1.0  1.0  5.0\n",
       "  25     3.2995  2.0  1.0  2.0\n",
       "  26     3.2508  2.0  0.0  4.0\n",
       "  27     3.2005 -2.0  1.0  4.0\n",
       "  20     3.5840 -2.0  1.0  2.0\n",
       "  21     3.4994  2.0  1.0  1.0\n",
       "  22     3.4312  1.0  1.0  4.0,\n",
       "    Mineral_Name       a       b        c   alpha    gamma    beta\n",
       "  0   Gillulyite  9.5840  5.6790  21.5010  90.000  100.070  90.000),\n",
       " (   D-SPACING    H    K    L\n",
       "  7     3.3005  5.0  1.0  1.0\n",
       "  8     3.3005  3.0  3.0  3.0\n",
       "  6     3.5007  4.0  2.0  2.0,\n",
       "                  Mineral_Name        a        b        c   alpha   gamma  \\\n",
       "  0  Hydrate - tetrahydrofuran  17.1500  17.1500  17.1500  90.000  90.000   \n",
       "  \n",
       "       beta  \n",
       "  0  90.000  ),\n",
       " (    D-SPACING    H    K    L\n",
       "  19     3.2991  2.0  0.0  2.0\n",
       "  20     3.2531 -2.0  2.0  1.0\n",
       "  21     3.2457  3.0  0.0  0.0\n",
       "  17     3.5000 -1.0  1.0  3.0\n",
       "  18     3.4381  0.0  1.0  3.0,\n",
       "      Mineral_Name        a       b        c   alpha    gamma    beta\n",
       "  0  CsMo2O3(PO4)2  10.0470  8.6550  11.5970  90.000  104.270  90.000),\n",
       " (    D-SPACING    H    K    L\n",
       "  21     3.3662 -1.0  0.0  2.0\n",
       "  22     3.3007  1.0  3.0  1.0\n",
       "  23     3.2749  0.0  1.0  2.0\n",
       "  24     3.2333  0.0  4.0  0.0\n",
       "  18     3.5345 -2.0  2.0  1.0\n",
       "  19     3.4992 -1.0  3.0  1.0\n",
       "  20     3.4847  2.0  1.0  1.0,\n",
       "    Mineral_Name       a        b       c   alpha   gamma    beta\n",
       "  0   Dervillite  9.6155  12.9331  6.8616  90.000  99.352  90.000),\n",
       " (    D-SPACING    H    K    L\n",
       "  17     3.3955  4.0  1.0  0.0\n",
       "  18     3.2998  3.0  3.0  0.0\n",
       "  14     3.5916  3.0  0.0  1.0\n",
       "  15     3.5000  4.0  0.0  0.0\n",
       "  16     3.4789  3.0  1.0  1.0,\n",
       "    Mineral_Name        a        b       c   alpha   gamma    beta\n",
       "  0      Muirite  14.0000  14.0000  5.6250  90.000  90.000  90.000)]"
      ]
     },
     "execution_count": 17,
     "metadata": {},
     "output_type": "execute_result"
    }
   ],
   "source": [
    "dspacing1 = 3.3\n",
    "dspacing2 = 3.5\n",
    "d_spacing_list = [3.3, 3.5]\n",
    "web_address = make_web_address(dspacing1, dspacing2)\n",
    "links_list = compile_links(web_address)\n",
    "query_wrapper(links_list, d_spacing_list)"
   ]
  },
  {
   "cell_type": "code",
   "execution_count": 15,
   "metadata": {},
   "outputs": [
    {
     "data": {
      "text/plain": [
       "(    D-SPACING    H    K    L\n",
       " 23     3.3944  0.0  1.0  5.0\n",
       " 24     3.3470 -1.0  1.0  5.0\n",
       " 25     3.2995  2.0  1.0  2.0\n",
       " 26     3.2508  2.0  0.0  4.0\n",
       " 27     3.2005 -2.0  1.0  4.0\n",
       " 20     3.5840 -2.0  1.0  2.0\n",
       " 21     3.4994  2.0  1.0  1.0\n",
       " 22     3.4312  1.0  1.0  4.0,\n",
       "   Mineral_Name       a       b        c   alpha    gamma    beta\n",
       " 0   Gillulyite  9.5840  5.6790  21.5010  90.000  100.070  90.000)"
      ]
     },
     "execution_count": 15,
     "metadata": {},
     "output_type": "execute_result"
    }
   ],
   "source": [
    "link = 'http://rruff.geo.arizona.edu/AMS/download.php?id=01755.txt&down=dif'\n",
    "d_spacing = 3.3\n",
    "d_spacing_list = [3.3, 3.5]\n",
    "select_data(link, d_spacing_list)"
   ]
  },
  {
   "cell_type": "code",
   "execution_count": 18,
   "metadata": {},
   "outputs": [
    {
     "data": {
      "text/plain": [
       "(  Mineral_Name       a       b        c   alpha    gamma    beta\n",
       " 0   Gillulyite  9.5840  5.6790  21.5010  90.000  100.070  90.000,\n",
       "      D-SPACING    H    K     L\n",
       " 0       8.1078  1.0  0.0   1.0\n",
       " 1       6.1945 -1.0  0.0   3.0\n",
       " 2       5.4851  0.0  1.0   1.0\n",
       " 3       5.2924  0.0  0.0   4.0\n",
       " 4       5.2296  1.0  0.0   3.0\n",
       " ..         ...  ...  ...   ...\n",
       " 234     1.1108  8.0  0.0   4.0\n",
       " 235     1.0949  4.0  4.0   7.0\n",
       " 236     1.0942  3.0  0.0  17.0\n",
       " 237     1.0936 -7.0  3.0   6.0\n",
       " 238     1.0925 -6.0  3.0  11.0\n",
       " \n",
       " [239 rows x 4 columns])"
      ]
     },
     "execution_count": 18,
     "metadata": {},
     "output_type": "execute_result"
    }
   ],
   "source": [
    "link = 'http://rruff.geo.arizona.edu/AMS/download.php?id=01755.txt&down=dif'\n",
    "d_spacing = 3.3\n",
    "lists_to_dfs(link)"
   ]
  },
  {
   "cell_type": "markdown",
   "metadata": {},
   "source": [
    "generate a web search of the minerals with matching d spacings"
   ]
  },
  {
   "cell_type": "code",
   "execution_count": 20,
   "metadata": {},
   "outputs": [
    {
     "data": {
      "text/plain": [
       "'http://rruff.geo.arizona.edu/AMS/result.php?diff=vals(3.3,3.5),opt(),type(d-spacing),tolerance(.001)'"
      ]
     },
     "execution_count": 20,
     "metadata": {},
     "output_type": "execute_result"
    }
   ],
   "source": [
    "dspacing1 = 3.3\n",
    "dspacing2 = 3.5\n",
    "#may need put this into a wrapper function\n",
    "#create a skeleton for a wrapper function\n",
    "web_address = make_web_address(dspacing1, dspacing2)\n",
    "link = web_address\n",
    "link"
   ]
  },
  {
   "cell_type": "markdown",
   "metadata": {},
   "source": [
    "create a list of links to diffraction text files for matching mineral structures"
   ]
  },
  {
   "cell_type": "code",
   "execution_count": 21,
   "metadata": {},
   "outputs": [
    {
     "data": {
      "text/plain": [
       "['http://rruff.geo.arizona.edu/AMS/download.php?id=01755.txt&down=dif',\n",
       " 'http://rruff.geo.arizona.edu/AMS/download.php?id=16200.txt&down=dif',\n",
       " 'http://rruff.geo.arizona.edu/AMS/download.php?id=17097.txt&down=dif',\n",
       " 'http://rruff.geo.arizona.edu/AMS/download.php?id=18445.txt&down=dif',\n",
       " 'http://rruff.geo.arizona.edu/AMS/download.php?id=20133.txt&down=dif']"
      ]
     },
     "execution_count": 21,
     "metadata": {},
     "output_type": "execute_result"
    }
   ],
   "source": [
    "links_list = compile_links(web_address)\n",
    "links_list"
   ]
  },
  {
   "cell_type": "markdown",
   "metadata": {},
   "source": [
    "Testing that the split_diffraction_data function generates a tuple of two lists, one for metadata and one for diffraction data"
   ]
  },
  {
   "cell_type": "code",
   "execution_count": 9,
   "metadata": {
    "scrolled": false
   },
   "outputs": [
    {
     "ename": "NameError",
     "evalue": "name 'requests' is not defined",
     "output_type": "error",
     "traceback": [
      "\u001b[0;31m---------------------------------------------------------------------------\u001b[0m",
      "\u001b[0;31mNameError\u001b[0m                                 Traceback (most recent call last)",
      "\u001b[0;32m<ipython-input-9-69bd7a0e19c2>\u001b[0m in \u001b[0;36m<module>\u001b[0;34m\u001b[0m\n\u001b[1;32m      1\u001b[0m \u001b[0mlink\u001b[0m \u001b[0;34m=\u001b[0m \u001b[0;34m'http://rruff.geo.arizona.edu/AMS/download.php?id=01755.txt&down=dif'\u001b[0m\u001b[0;34m\u001b[0m\u001b[0;34m\u001b[0m\u001b[0m\n\u001b[0;32m----> 2\u001b[0;31m \u001b[0msplit_diffraction_data\u001b[0m\u001b[0;34m(\u001b[0m\u001b[0mlink\u001b[0m\u001b[0;34m)\u001b[0m\u001b[0;34m\u001b[0m\u001b[0;34m\u001b[0m\u001b[0m\n\u001b[0m",
      "\u001b[0;32m<ipython-input-2-33b10fd9a256>\u001b[0m in \u001b[0;36msplit_diffraction_data\u001b[0;34m(link)\u001b[0m\n\u001b[1;32m     62\u001b[0m     '''\n\u001b[1;32m     63\u001b[0m \u001b[0;34m\u001b[0m\u001b[0m\n\u001b[0;32m---> 64\u001b[0;31m     \u001b[0;32mwith\u001b[0m \u001b[0mrequests\u001b[0m\u001b[0;34m.\u001b[0m\u001b[0mSession\u001b[0m\u001b[0;34m(\u001b[0m\u001b[0;34m)\u001b[0m \u001b[0;32mas\u001b[0m \u001b[0ms\u001b[0m\u001b[0;34m:\u001b[0m\u001b[0;34m\u001b[0m\u001b[0;34m\u001b[0m\u001b[0m\n\u001b[0m\u001b[1;32m     65\u001b[0m         \u001b[0mdownload\u001b[0m \u001b[0;34m=\u001b[0m \u001b[0ms\u001b[0m\u001b[0;34m.\u001b[0m\u001b[0mget\u001b[0m\u001b[0;34m(\u001b[0m\u001b[0mlink\u001b[0m\u001b[0;34m)\u001b[0m\u001b[0;34m\u001b[0m\u001b[0;34m\u001b[0m\u001b[0m\n\u001b[1;32m     66\u001b[0m         \u001b[0mdecoded_content\u001b[0m \u001b[0;34m=\u001b[0m \u001b[0mdownload\u001b[0m\u001b[0;34m.\u001b[0m\u001b[0mcontent\u001b[0m\u001b[0;34m.\u001b[0m\u001b[0mdecode\u001b[0m\u001b[0;34m(\u001b[0m\u001b[0;34m'utf-8'\u001b[0m\u001b[0;34m)\u001b[0m\u001b[0;34m\u001b[0m\u001b[0;34m\u001b[0m\u001b[0m\n",
      "\u001b[0;31mNameError\u001b[0m: name 'requests' is not defined"
     ]
    }
   ],
   "source": [
    "link = 'http://rruff.geo.arizona.edu/AMS/download.php?id=01755.txt&down=dif'\n",
    "split_diffraction_data(link)"
   ]
  },
  {
   "cell_type": "code",
   "execution_count": 10,
   "metadata": {},
   "outputs": [
    {
     "ename": "NameError",
     "evalue": "name 'pd' is not defined",
     "output_type": "error",
     "traceback": [
      "\u001b[0;31m---------------------------------------------------------------------------\u001b[0m",
      "\u001b[0;31mNameError\u001b[0m                                 Traceback (most recent call last)",
      "\u001b[0;32m<ipython-input-10-c96d74136861>\u001b[0m in \u001b[0;36m<module>\u001b[0;34m\u001b[0m\n\u001b[1;32m      3\u001b[0m \u001b[0;34m\u001b[0m\u001b[0m\n\u001b[1;32m      4\u001b[0m \u001b[0mcolumn_names\u001b[0m \u001b[0;34m=\u001b[0m \u001b[0;34m[\u001b[0m\u001b[0;34m\"mineral\"\u001b[0m\u001b[0;34m,\u001b[0m \u001b[0;34m\"symetry\"\u001b[0m\u001b[0;34m,\u001b[0m \u001b[0;34m\"a\"\u001b[0m\u001b[0;34m,\u001b[0m \u001b[0;34m\"b\"\u001b[0m\u001b[0;34m,\u001b[0m \u001b[0;34m\"c\"\u001b[0m\u001b[0;34m,\u001b[0m \u001b[0;34m\"alpha\"\u001b[0m\u001b[0;34m,\u001b[0m \u001b[0;34m\"beta\"\u001b[0m\u001b[0;34m,\u001b[0m \u001b[0;34m\"gama\"\u001b[0m\u001b[0;34m,\u001b[0m \u001b[0;34m\"dspacing\"\u001b[0m\u001b[0;34m,\u001b[0m \u001b[0;34m\"h\"\u001b[0m\u001b[0;34m,\u001b[0m \u001b[0;34m\"k\"\u001b[0m\u001b[0;34m,\u001b[0m \u001b[0;34m\"l\"\u001b[0m\u001b[0;34m]\u001b[0m\u001b[0;34m\u001b[0m\u001b[0;34m\u001b[0m\u001b[0m\n\u001b[0;32m----> 5\u001b[0;31m \u001b[0mpot_planes_df\u001b[0m \u001b[0;34m=\u001b[0m \u001b[0mpd\u001b[0m\u001b[0;34m.\u001b[0m\u001b[0mDataFrame\u001b[0m\u001b[0;34m(\u001b[0m\u001b[0mcolumns\u001b[0m \u001b[0;34m=\u001b[0m \u001b[0mcolumn_names\u001b[0m\u001b[0;34m)\u001b[0m\u001b[0;34m\u001b[0m\u001b[0;34m\u001b[0m\u001b[0m\n\u001b[0m\u001b[1;32m      6\u001b[0m \u001b[0;34m\u001b[0m\u001b[0m\n\u001b[1;32m      7\u001b[0m \u001b[0;31m#get_diffraction_data(links_list, dspacing1, dspacing2, pot_planes_df)\u001b[0m\u001b[0;34m\u001b[0m\u001b[0;34m\u001b[0m\u001b[0;34m\u001b[0m\u001b[0m\n",
      "\u001b[0;31mNameError\u001b[0m: name 'pd' is not defined"
     ]
    }
   ],
   "source": [
    "dspacing1 = 3.3\n",
    "dspacing2 = 3.5\n",
    "\n",
    "column_names = [\"mineral\", \"symetry\", \"a\", \"b\", \"c\", \"alpha\", \"beta\", \"gama\", \"dspacing\", \"h\", \"k\", \"l\"]\n",
    "pot_planes_df = pd.DataFrame(columns = column_names)\n",
    "\n",
    "#get_diffraction_data(links_list, dspacing1, dspacing2, pot_planes_df)"
   ]
  },
  {
   "cell_type": "markdown",
   "metadata": {},
   "source": [
    "testing the sort_lists function"
   ]
  },
  {
   "cell_type": "code",
   "execution_count": 11,
   "metadata": {},
   "outputs": [
    {
     "ename": "NameError",
     "evalue": "name 'requests' is not defined",
     "output_type": "error",
     "traceback": [
      "\u001b[0;31m---------------------------------------------------------------------------\u001b[0m",
      "\u001b[0;31mNameError\u001b[0m                                 Traceback (most recent call last)",
      "\u001b[0;32m<ipython-input-11-4bae7e28c9fb>\u001b[0m in \u001b[0;36m<module>\u001b[0;34m\u001b[0m\n\u001b[1;32m      1\u001b[0m \u001b[0mlink\u001b[0m \u001b[0;34m=\u001b[0m \u001b[0;34m'http://rruff.geo.arizona.edu/AMS/download.php?id=01755.txt&down=dif'\u001b[0m\u001b[0;34m\u001b[0m\u001b[0;34m\u001b[0m\u001b[0m\n\u001b[0;32m----> 2\u001b[0;31m \u001b[0msort_lists\u001b[0m\u001b[0;34m(\u001b[0m\u001b[0mlink\u001b[0m\u001b[0;34m)\u001b[0m\u001b[0;34m\u001b[0m\u001b[0;34m\u001b[0m\u001b[0m\n\u001b[0m",
      "\u001b[0;32m<ipython-input-2-33b10fd9a256>\u001b[0m in \u001b[0;36msort_lists\u001b[0;34m(link)\u001b[0m\n\u001b[1;32m    100\u001b[0m     \u001b[0mdesired\u001b[0m \u001b[0mmetadata\u001b[0m\u001b[0;34m:\u001b[0m \u001b[0mMineral\u001b[0m \u001b[0mName\u001b[0m\u001b[0;34m,\u001b[0m \u001b[0mSpace\u001b[0m \u001b[0mGroup\u001b[0m\u001b[0;34m,\u001b[0m \u001b[0mCell\u001b[0m \u001b[0mParameters\u001b[0m\u001b[0;34m\u001b[0m\u001b[0;34m\u001b[0m\u001b[0m\n\u001b[1;32m    101\u001b[0m     '''\n\u001b[0;32m--> 102\u001b[0;31m     \u001b[0mmetadata_list\u001b[0m\u001b[0;34m,\u001b[0m \u001b[0mdata_list\u001b[0m \u001b[0;34m=\u001b[0m \u001b[0msplit_diffraction_data\u001b[0m\u001b[0;34m(\u001b[0m\u001b[0mlink\u001b[0m\u001b[0;34m)\u001b[0m\u001b[0;34m\u001b[0m\u001b[0;34m\u001b[0m\u001b[0m\n\u001b[0m\u001b[1;32m    103\u001b[0m     \u001b[0mstructure_list\u001b[0m \u001b[0;34m=\u001b[0m \u001b[0;34m[\u001b[0m\u001b[0mmetadata_list\u001b[0m\u001b[0;34m[\u001b[0m\u001b[0;36m0\u001b[0m\u001b[0;34m]\u001b[0m\u001b[0;34m]\u001b[0m\u001b[0;34m\u001b[0m\u001b[0;34m\u001b[0m\u001b[0m\n\u001b[1;32m    104\u001b[0m     \u001b[0mdata_labels\u001b[0m \u001b[0;34m=\u001b[0m \u001b[0;34m[\u001b[0m\u001b[0mdata_list\u001b[0m\u001b[0;34m[\u001b[0m\u001b[0;36m0\u001b[0m\u001b[0;34m]\u001b[0m\u001b[0;34m.\u001b[0m\u001b[0msplit\u001b[0m\u001b[0;34m(\u001b[0m\u001b[0;34m)\u001b[0m\u001b[0;34m]\u001b[0m\u001b[0;34m\u001b[0m\u001b[0;34m\u001b[0m\u001b[0m\n",
      "\u001b[0;32m<ipython-input-2-33b10fd9a256>\u001b[0m in \u001b[0;36msplit_diffraction_data\u001b[0;34m(link)\u001b[0m\n\u001b[1;32m     62\u001b[0m     '''\n\u001b[1;32m     63\u001b[0m \u001b[0;34m\u001b[0m\u001b[0m\n\u001b[0;32m---> 64\u001b[0;31m     \u001b[0;32mwith\u001b[0m \u001b[0mrequests\u001b[0m\u001b[0;34m.\u001b[0m\u001b[0mSession\u001b[0m\u001b[0;34m(\u001b[0m\u001b[0;34m)\u001b[0m \u001b[0;32mas\u001b[0m \u001b[0ms\u001b[0m\u001b[0;34m:\u001b[0m\u001b[0;34m\u001b[0m\u001b[0;34m\u001b[0m\u001b[0m\n\u001b[0m\u001b[1;32m     65\u001b[0m         \u001b[0mdownload\u001b[0m \u001b[0;34m=\u001b[0m \u001b[0ms\u001b[0m\u001b[0;34m.\u001b[0m\u001b[0mget\u001b[0m\u001b[0;34m(\u001b[0m\u001b[0mlink\u001b[0m\u001b[0;34m)\u001b[0m\u001b[0;34m\u001b[0m\u001b[0;34m\u001b[0m\u001b[0m\n\u001b[1;32m     66\u001b[0m         \u001b[0mdecoded_content\u001b[0m \u001b[0;34m=\u001b[0m \u001b[0mdownload\u001b[0m\u001b[0;34m.\u001b[0m\u001b[0mcontent\u001b[0m\u001b[0;34m.\u001b[0m\u001b[0mdecode\u001b[0m\u001b[0;34m(\u001b[0m\u001b[0;34m'utf-8'\u001b[0m\u001b[0;34m)\u001b[0m\u001b[0;34m\u001b[0m\u001b[0;34m\u001b[0m\u001b[0m\n",
      "\u001b[0;31mNameError\u001b[0m: name 'requests' is not defined"
     ]
    }
   ],
   "source": [
    "link = 'http://rruff.geo.arizona.edu/AMS/download.php?id=01755.txt&down=dif'\n",
    "sort_lists(link)"
   ]
  },
  {
   "cell_type": "code",
   "execution_count": null,
   "metadata": {},
   "outputs": [],
   "source": []
  },
  {
   "cell_type": "code",
   "execution_count": null,
   "metadata": {},
   "outputs": [],
   "source": []
  }
 ],
 "metadata": {
  "kernelspec": {
   "display_name": "Python 3",
   "language": "python",
   "name": "python3"
  },
  "language_info": {
   "codemirror_mode": {
    "name": "ipython",
    "version": 3
   },
   "file_extension": ".py",
   "mimetype": "text/x-python",
   "name": "python",
   "nbconvert_exporter": "python",
   "pygments_lexer": "ipython3",
   "version": "3.7.4"
  }
 },
 "nbformat": 4,
 "nbformat_minor": 2
}
