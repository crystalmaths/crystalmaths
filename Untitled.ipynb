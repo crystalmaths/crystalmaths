{
 "cells": [
  {
   "cell_type": "markdown",
   "metadata": {},
   "source": [
    "<span style=\"background-color:black\">\n",
    "\n",
    "![crystalmaths](https://github.com/crystalmaths/crystalmaths/blob/master/images/crystalmaths.png?raw=true)\n",
    "\n",
    "</span>\n",
    "\n",
    "\n",
    "### Package for indexing the zone axis of a high res TEM image\n",
    "\n",
    "#### Software Dependancies\n",
    "\n",
    "- Python 3\n",
    "- Please see the file environment.yml for the needed packages\n",
    "\n",
    "#### Preview of CrystalMaths\n",
    "[![Crystalmaths Demo](https://res.cloudinary.com/marcomontalbano/image/upload/v1584430647/video_to_markdown/images/youtube--sT46nRLCLZ8-c05b58ac6eb4c4700831b2b3070cd403.jpg)](https://www.youtube.com/watch?v=sT46nRLCLZ8 \"Crystalmaths Demo\")\n",
    "\n",
    "\n",
    "Please see the Module Demo notebook in the examples folder"
   ]
  },
  {
   "cell_type": "code",
   "execution_count": null,
   "metadata": {},
   "outputs": [],
   "source": []
  }
 ],
 "metadata": {
  "kernelspec": {
   "display_name": "Python 3",
   "language": "python",
   "name": "python3"
  },
  "language_info": {
   "codemirror_mode": {
    "name": "ipython",
    "version": 3
   },
   "file_extension": ".py",
   "mimetype": "text/x-python",
   "name": "python",
   "nbconvert_exporter": "python",
   "pygments_lexer": "ipython3",
   "version": "3.7.4"
  }
 },
 "nbformat": 4,
 "nbformat_minor": 2
}
